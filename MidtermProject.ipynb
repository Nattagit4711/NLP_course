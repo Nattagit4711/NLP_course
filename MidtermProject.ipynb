{
  "cells": [
    {
      "cell_type": "markdown",
      "metadata": {
        "id": "tfpaKgV6Ho-w"
      },
      "source": [
        "# 6570083221"
      ]
    },
    {
      "cell_type": "code",
      "execution_count": 1,
      "metadata": {
        "colab": {
          "base_uri": "https://localhost:8080/",
          "height": 0
        },
        "id": "nyoJ5C8z3p0z",
        "outputId": "b436560d-69e3-4a6f-9c90-cf5dedba0943"
      },
      "outputs": [
        {
          "name": "stdout",
          "output_type": "stream",
          "text": [
            "Mounted at /content/drive\n"
          ]
        }
      ],
      "source": [
        "from google.colab import drive\n",
        "drive.mount('/content/drive')"
      ]
    },
    {
      "cell_type": "code",
      "execution_count": 2,
      "metadata": {
        "colab": {
          "base_uri": "https://localhost:8080/",
          "height": 0
        },
        "id": "qRlx5Mb5zkXw",
        "outputId": "48aa6130-a318-41ce-e0d4-0154a44cfe10"
      },
      "outputs": [
        {
          "name": "stdout",
          "output_type": "stream",
          "text": [
            "Looking in indexes: https://pypi.org/simple, https://us-python.pkg.dev/colab-wheels/public/simple/\n",
            "Collecting pythainlp\n",
            "  Downloading pythainlp-3.1.1-py3-none-any.whl (9.6 MB)\n",
            "\u001b[2K     \u001b[90mâ”â”â”â”â”â”â”â”â”â”â”â”â”â”â”â”â”â”â”â”â”â”â”â”â”â”â”â”â”â”â”â”â”â”â”â”â”â”â”â”\u001b[0m \u001b[32m9.6/9.6 MB\u001b[0m \u001b[31m25.2 MB/s\u001b[0m eta \u001b[36m0:00:00\u001b[0m\n",
            "\u001b[?25hRequirement already satisfied: requests>=2.22.0 in /usr/local/lib/python3.9/dist-packages (from pythainlp) (2.25.1)\n",
            "Requirement already satisfied: urllib3<1.27,>=1.21.1 in /usr/local/lib/python3.9/dist-packages (from requests>=2.22.0->pythainlp) (1.26.15)\n",
            "Requirement already satisfied: chardet<5,>=3.0.2 in /usr/local/lib/python3.9/dist-packages (from requests>=2.22.0->pythainlp) (4.0.0)\n",
            "Requirement already satisfied: idna<3,>=2.5 in /usr/local/lib/python3.9/dist-packages (from requests>=2.22.0->pythainlp) (2.10)\n",
            "Requirement already satisfied: certifi>=2017.4.17 in /usr/local/lib/python3.9/dist-packages (from requests>=2.22.0->pythainlp) (2022.12.7)\n",
            "Installing collected packages: pythainlp\n",
            "Successfully installed pythainlp-3.1.1\n"
          ]
        }
      ],
      "source": [
        "!pip install pythainlp"
      ]
    },
    {
      "cell_type": "code",
      "execution_count": null,
      "metadata": {
        "id": "hJDcyIYyzldo"
      },
      "outputs": [],
      "source": [
        "!pip install beautifulsoup4"
      ]
    },
    {
      "cell_type": "markdown",
      "metadata": {
        "id": "8ciTuWqQzWIg"
      },
      "source": [
        "# Data cleaning"
      ]
    },
    {
      "cell_type": "markdown",
      "metadata": {
        "id": "azgZIz0y0VHp"
      },
      "source": [
        "- remove html tags and remove space at the beginning and the end."
      ]
    },
    {
      "cell_type": "code",
      "execution_count": null,
      "metadata": {
        "id": "tpngEPbYzaQD"
      },
      "outputs": [],
      "source": [
        "import pandas as pd\n",
        "import numpy as np\n",
        "train_df = pd.read_csv(\"train.csv\")\n",
        "# len(train_df.occupation_group.unique())"
      ]
    },
    {
      "cell_type": "code",
      "execution_count": null,
      "metadata": {
        "id": "Qw8_FiaLzbfd"
      },
      "outputs": [],
      "source": [
        "from bs4 import BeautifulSoup"
      ]
    },
    {
      "cell_type": "code",
      "execution_count": null,
      "metadata": {
        "id": "C6lNzOHczffk"
      },
      "outputs": [],
      "source": [
        "title = []\n",
        "for i in range(train_df.shape[0]):\n",
        "    html_text = str(train_df.iloc[i].job_title)\n",
        "    soup = BeautifulSoup(html_text, \"html.parser\")\n",
        "    text = soup.get_text().strip().lower()\n",
        "    title.append(text)"
      ]
    },
    {
      "cell_type": "code",
      "execution_count": null,
      "metadata": {
        "id": "HrBWA5nfz4Au"
      },
      "outputs": [],
      "source": [
        "train_df = train_df.drop(['job_title'], axis=1)\n",
        "train_df.to_csv(\"cleaned_train_2.csv\")"
      ]
    },
    {
      "cell_type": "code",
      "execution_count": null,
      "metadata": {
        "id": "j2X_C5qZ0FcS"
      },
      "outputs": [],
      "source": [
        "test_df = pd.read_csv(\"test_for_submission.csv\")\n",
        "title = []\n",
        "for i in range(test_df.shape[0]):\n",
        "    html_text = str(test_df.iloc[i].job_title)\n",
        "    soup = BeautifulSoup(html_text, \"html.parser\")\n",
        "    text = soup.get_text().strip().lower()\n",
        "    title.append(text)"
      ]
    },
    {
      "cell_type": "code",
      "execution_count": null,
      "metadata": {
        "id": "DFruR6Lj0Ryj"
      },
      "outputs": [],
      "source": [
        "test_df = test_df.drop(['job_title'], axis=1)\n",
        "test_df.to_csv(\"cleaned_test.csv\")"
      ]
    },
    {
      "cell_type": "code",
      "execution_count": null,
      "metadata": {
        "id": "h0KpRk2g0Sr0"
      },
      "outputs": [],
      "source": [
        "del train_df, test_df"
      ]
    },
    {
      "cell_type": "markdown",
      "metadata": {
        "id": "2YprqbOPMc5a"
      },
      "source": [
        "## Import Libs"
      ]
    },
    {
      "cell_type": "code",
      "execution_count": 3,
      "metadata": {
        "id": "heICP79cMc5e"
      },
      "outputs": [],
      "source": [
        "%matplotlib inline\n",
        "import pandas\n",
        "import sklearn\n",
        "import numpy as np\n",
        "import matplotlib.pyplot as plt\n",
        "import torch\n",
        "import random\n",
        "import pandas as pd \n",
        "import os\n",
        "\n",
        "from torch.utils.data import Dataset\n",
        "from IPython.display import display\n",
        "from pythainlp.tokenize import word_tokenize\n",
        "from collections import defaultdict\n",
        "from sklearn.metrics import accuracy_score"
      ]
    },
    {
      "cell_type": "code",
      "execution_count": 4,
      "metadata": {
        "id": "FQqCMx5tREKK"
      },
      "outputs": [],
      "source": [
        "def set_all_seeds(seed):\n",
        "  random.seed(seed)\n",
        "  np.random.seed(seed)\n",
        "  torch.manual_seed(seed)\n",
        "  torch.cuda.manual_seed(seed)\n",
        "  torch.backends.cudnn.deterministic = True\n",
        "\n",
        "set_all_seeds(9)"
      ]
    },
    {
      "cell_type": "markdown",
      "metadata": {
        "id": "GPaUf4PLMc5k"
      },
      "source": [
        "## Loading data\n",
        "First, we load the data from disk into a Dataframe.\n",
        "\n",
        "A Dataframe is essentially a table, or 2D-array/Matrix with a name for each column."
      ]
    },
    {
      "cell_type": "code",
      "execution_count": 133,
      "metadata": {
        "id": "JhZ2eBAWMc5l"
      },
      "outputs": [],
      "source": [
        "data_df = pd.read_csv('/content/drive/MyDrive/NLP_Midterm/cleaned_train_2.csv')\n",
        "test_df = pd.read_csv('/content/drive/MyDrive/NLP_Midterm/cleaned_test.csv')"
      ]
    },
    {
      "cell_type": "markdown",
      "metadata": {
        "id": "cje3yruTMc5p"
      },
      "source": [
        "Let's preview the data."
      ]
    },
    {
      "cell_type": "code",
      "execution_count": 94,
      "metadata": {
        "colab": {
          "base_uri": "https://localhost:8080/",
          "height": 206
        },
        "id": "aNqRNz1PMc5q",
        "outputId": "68bd0744-83ec-4021-f79b-7bf6836ac011"
      },
      "outputs": [
        {
          "data": {
            "text/html": [
              "\n",
              "  <div id=\"df-dfd942a2-ec36-4a0f-8da2-4eff7bb2b7ca\">\n",
              "    <div class=\"colab-df-container\">\n",
              "      <div>\n",
              "<style scoped>\n",
              "    .dataframe tbody tr th:only-of-type {\n",
              "        vertical-align: middle;\n",
              "    }\n",
              "\n",
              "    .dataframe tbody tr th {\n",
              "        vertical-align: top;\n",
              "    }\n",
              "\n",
              "    .dataframe thead th {\n",
              "        text-align: right;\n",
              "    }\n",
              "</style>\n",
              "<table border=\"1\" class=\"dataframe\">\n",
              "  <thead>\n",
              "    <tr style=\"text-align: right;\">\n",
              "      <th></th>\n",
              "      <th>Unnamed: 0</th>\n",
              "      <th>occupation_group</th>\n",
              "      <th>occupation</th>\n",
              "      <th>occupation_group_index</th>\n",
              "      <th>occupation_index</th>\n",
              "      <th>title</th>\n",
              "    </tr>\n",
              "  </thead>\n",
              "  <tbody>\n",
              "    <tr>\n",
              "      <th>0</th>\n",
              "      <td>0</td>\n",
              "      <td>Top Level Executive</td>\n",
              "      <td>Executive Manager</td>\n",
              "      <td>142</td>\n",
              "      <td>211</td>\n",
              "      <td>à¸œà¸¹à¹‰à¹à¸—à¸™à¸à¹ˆà¸²à¸¢à¸šà¸£à¸´à¸«à¸²à¸£</td>\n",
              "    </tr>\n",
              "    <tr>\n",
              "      <th>1</th>\n",
              "      <td>1</td>\n",
              "      <td>Pharmacist</td>\n",
              "      <td>Pharmacist</td>\n",
              "      <td>107</td>\n",
              "      <td>413</td>\n",
              "      <td>à¹€à¸ à¸ªà¸±à¸Šà¸à¸£ à¸ªà¸²à¸‚à¸²à¹à¸«à¸¥à¸¡à¸‰à¸šà¸±à¸‡</td>\n",
              "    </tr>\n",
              "    <tr>\n",
              "      <th>2</th>\n",
              "      <td>2</td>\n",
              "      <td>Teacher</td>\n",
              "      <td>Health and Physical Education Teacher</td>\n",
              "      <td>140</td>\n",
              "      <td>276</td>\n",
              "      <td>à¸„à¸£à¸¹à¸œà¸¹à¹‰à¸ªà¸­à¸™à¸§à¸´à¸Šà¸²à¸ªà¸¸à¸‚à¸¨à¸¶à¸à¸©à¸²</td>\n",
              "    </tr>\n",
              "    <tr>\n",
              "      <th>3</th>\n",
              "      <td>3</td>\n",
              "      <td>Air Traffic Control</td>\n",
              "      <td>Air Traffic Control</td>\n",
              "      <td>7</td>\n",
              "      <td>23</td>\n",
              "      <td>atc</td>\n",
              "    </tr>\n",
              "    <tr>\n",
              "      <th>4</th>\n",
              "      <td>4</td>\n",
              "      <td>Engineering</td>\n",
              "      <td>Energy Engineer</td>\n",
              "      <td>50</td>\n",
              "      <td>195</td>\n",
              "      <td>energy monitoring engineer</td>\n",
              "    </tr>\n",
              "  </tbody>\n",
              "</table>\n",
              "</div>\n",
              "      <button class=\"colab-df-convert\" onclick=\"convertToInteractive('df-dfd942a2-ec36-4a0f-8da2-4eff7bb2b7ca')\"\n",
              "              title=\"Convert this dataframe to an interactive table.\"\n",
              "              style=\"display:none;\">\n",
              "        \n",
              "  <svg xmlns=\"http://www.w3.org/2000/svg\" height=\"24px\"viewBox=\"0 0 24 24\"\n",
              "       width=\"24px\">\n",
              "    <path d=\"M0 0h24v24H0V0z\" fill=\"none\"/>\n",
              "    <path d=\"M18.56 5.44l.94 2.06.94-2.06 2.06-.94-2.06-.94-.94-2.06-.94 2.06-2.06.94zm-11 1L8.5 8.5l.94-2.06 2.06-.94-2.06-.94L8.5 2.5l-.94 2.06-2.06.94zm10 10l.94 2.06.94-2.06 2.06-.94-2.06-.94-.94-2.06-.94 2.06-2.06.94z\"/><path d=\"M17.41 7.96l-1.37-1.37c-.4-.4-.92-.59-1.43-.59-.52 0-1.04.2-1.43.59L10.3 9.45l-7.72 7.72c-.78.78-.78 2.05 0 2.83L4 21.41c.39.39.9.59 1.41.59.51 0 1.02-.2 1.41-.59l7.78-7.78 2.81-2.81c.8-.78.8-2.07 0-2.86zM5.41 20L4 18.59l7.72-7.72 1.47 1.35L5.41 20z\"/>\n",
              "  </svg>\n",
              "      </button>\n",
              "      \n",
              "  <style>\n",
              "    .colab-df-container {\n",
              "      display:flex;\n",
              "      flex-wrap:wrap;\n",
              "      gap: 12px;\n",
              "    }\n",
              "\n",
              "    .colab-df-convert {\n",
              "      background-color: #E8F0FE;\n",
              "      border: none;\n",
              "      border-radius: 50%;\n",
              "      cursor: pointer;\n",
              "      display: none;\n",
              "      fill: #1967D2;\n",
              "      height: 32px;\n",
              "      padding: 0 0 0 0;\n",
              "      width: 32px;\n",
              "    }\n",
              "\n",
              "    .colab-df-convert:hover {\n",
              "      background-color: #E2EBFA;\n",
              "      box-shadow: 0px 1px 2px rgba(60, 64, 67, 0.3), 0px 1px 3px 1px rgba(60, 64, 67, 0.15);\n",
              "      fill: #174EA6;\n",
              "    }\n",
              "\n",
              "    [theme=dark] .colab-df-convert {\n",
              "      background-color: #3B4455;\n",
              "      fill: #D2E3FC;\n",
              "    }\n",
              "\n",
              "    [theme=dark] .colab-df-convert:hover {\n",
              "      background-color: #434B5C;\n",
              "      box-shadow: 0px 1px 3px 1px rgba(0, 0, 0, 0.15);\n",
              "      filter: drop-shadow(0px 1px 2px rgba(0, 0, 0, 0.3));\n",
              "      fill: #FFFFFF;\n",
              "    }\n",
              "  </style>\n",
              "\n",
              "      <script>\n",
              "        const buttonEl =\n",
              "          document.querySelector('#df-dfd942a2-ec36-4a0f-8da2-4eff7bb2b7ca button.colab-df-convert');\n",
              "        buttonEl.style.display =\n",
              "          google.colab.kernel.accessAllowed ? 'block' : 'none';\n",
              "\n",
              "        async function convertToInteractive(key) {\n",
              "          const element = document.querySelector('#df-dfd942a2-ec36-4a0f-8da2-4eff7bb2b7ca');\n",
              "          const dataTable =\n",
              "            await google.colab.kernel.invokeFunction('convertToInteractive',\n",
              "                                                     [key], {});\n",
              "          if (!dataTable) return;\n",
              "\n",
              "          const docLinkHtml = 'Like what you see? Visit the ' +\n",
              "            '<a target=\"_blank\" href=https://colab.research.google.com/notebooks/data_table.ipynb>data table notebook</a>'\n",
              "            + ' to learn more about interactive tables.';\n",
              "          element.innerHTML = '';\n",
              "          dataTable['output_type'] = 'display_data';\n",
              "          await google.colab.output.renderOutput(dataTable, element);\n",
              "          const docLink = document.createElement('div');\n",
              "          docLink.innerHTML = docLinkHtml;\n",
              "          element.appendChild(docLink);\n",
              "        }\n",
              "      </script>\n",
              "    </div>\n",
              "  </div>\n",
              "  "
            ],
            "text/plain": [
              "   Unnamed: 0     occupation_group                             occupation  \\\n",
              "0           0  Top Level Executive                      Executive Manager   \n",
              "1           1           Pharmacist                             Pharmacist   \n",
              "2           2              Teacher  Health and Physical Education Teacher   \n",
              "3           3  Air Traffic Control                    Air Traffic Control   \n",
              "4           4          Engineering                        Energy Engineer   \n",
              "\n",
              "   occupation_group_index  occupation_index                       title  \n",
              "0                     142               211            à¸œà¸¹à¹‰à¹à¸—à¸™à¸à¹ˆà¸²à¸¢à¸šà¸£à¸´à¸«à¸²à¸£  \n",
              "1                     107               413        à¹€à¸ à¸ªà¸±à¸Šà¸à¸£ à¸ªà¸²à¸‚à¸²à¹à¸«à¸¥à¸¡à¸‰à¸šà¸±à¸‡  \n",
              "2                     140               276       à¸„à¸£à¸¹à¸œà¸¹à¹‰à¸ªà¸­à¸™à¸§à¸´à¸Šà¸²à¸ªà¸¸à¸‚à¸¨à¸¶à¸à¸©à¸²  \n",
              "3                       7                23                         atc  \n",
              "4                      50               195  energy monitoring engineer  "
            ]
          },
          "metadata": {},
          "output_type": "display_data"
        }
      ],
      "source": [
        "# Show the top 5 rows\n",
        "display(data_df.head())"
      ]
    },
    {
      "cell_type": "code",
      "execution_count": 95,
      "metadata": {
        "colab": {
          "base_uri": "https://localhost:8080/",
          "height": 206
        },
        "id": "CxmCdc3ULZrX",
        "outputId": "c7f1e1e3-e7e7-455e-fdb7-6553fa514cdf"
      },
      "outputs": [
        {
          "data": {
            "text/html": [
              "\n",
              "  <div id=\"df-51793469-196e-49a0-9e6e-c8abb115e644\">\n",
              "    <div class=\"colab-df-container\">\n",
              "      <div>\n",
              "<style scoped>\n",
              "    .dataframe tbody tr th:only-of-type {\n",
              "        vertical-align: middle;\n",
              "    }\n",
              "\n",
              "    .dataframe tbody tr th {\n",
              "        vertical-align: top;\n",
              "    }\n",
              "\n",
              "    .dataframe thead th {\n",
              "        text-align: right;\n",
              "    }\n",
              "</style>\n",
              "<table border=\"1\" class=\"dataframe\">\n",
              "  <thead>\n",
              "    <tr style=\"text-align: right;\">\n",
              "      <th></th>\n",
              "      <th>Unnamed: 0</th>\n",
              "      <th>Id</th>\n",
              "      <th>job_title</th>\n",
              "      <th>title</th>\n",
              "    </tr>\n",
              "  </thead>\n",
              "  <tbody>\n",
              "    <tr>\n",
              "      <th>0</th>\n",
              "      <td>0</td>\n",
              "      <td>0</td>\n",
              "      <td>à¸ˆà¸±à¸à¸©à¸¸à¹à¸žà¸—à¸¢à¹Œ (Ophthalmologist)</td>\n",
              "      <td>à¸ˆà¸±à¸à¸©à¸¸à¹à¸žà¸—à¸¢à¹Œ (ophthalmologist)</td>\n",
              "    </tr>\n",
              "    <tr>\n",
              "      <th>1</th>\n",
              "      <td>1</td>\n",
              "      <td>1</td>\n",
              "      <td>Operator</td>\n",
              "      <td>operator</td>\n",
              "    </tr>\n",
              "    <tr>\n",
              "      <th>2</th>\n",
              "      <td>2</td>\n",
              "      <td>2</td>\n",
              "      <td>Water resources engineering</td>\n",
              "      <td>water resources engineering</td>\n",
              "    </tr>\n",
              "    <tr>\n",
              "      <th>3</th>\n",
              "      <td>3</td>\n",
              "      <td>3</td>\n",
              "      <td>à¸™à¸±à¸à¸§à¸´à¹€à¸—à¸¨à¸ªà¸±à¸¡à¸žà¸±à¸™à¸˜à¹Œ à¸›à¸£à¸°à¸ˆà¸³à¸à¸­à¸‡à¸§à¸´à¹€à¸—à¸¨à¸ªà¸±à¸¡à¸žà¸±à¸™à¸˜à¹Œ</td>\n",
              "      <td>à¸™à¸±à¸à¸§à¸´à¹€à¸—à¸¨à¸ªà¸±à¸¡à¸žà¸±à¸™à¸˜à¹Œ à¸›à¸£à¸°à¸ˆà¸³à¸à¸­à¸‡à¸§à¸´à¹€à¸—à¸¨à¸ªà¸±à¸¡à¸žà¸±à¸™à¸˜à¹Œ</td>\n",
              "    </tr>\n",
              "    <tr>\n",
              "      <th>4</th>\n",
              "      <td>4</td>\n",
              "      <td>4</td>\n",
              "      <td>Chemical Engineer</td>\n",
              "      <td>chemical engineer</td>\n",
              "    </tr>\n",
              "  </tbody>\n",
              "</table>\n",
              "</div>\n",
              "      <button class=\"colab-df-convert\" onclick=\"convertToInteractive('df-51793469-196e-49a0-9e6e-c8abb115e644')\"\n",
              "              title=\"Convert this dataframe to an interactive table.\"\n",
              "              style=\"display:none;\">\n",
              "        \n",
              "  <svg xmlns=\"http://www.w3.org/2000/svg\" height=\"24px\"viewBox=\"0 0 24 24\"\n",
              "       width=\"24px\">\n",
              "    <path d=\"M0 0h24v24H0V0z\" fill=\"none\"/>\n",
              "    <path d=\"M18.56 5.44l.94 2.06.94-2.06 2.06-.94-2.06-.94-.94-2.06-.94 2.06-2.06.94zm-11 1L8.5 8.5l.94-2.06 2.06-.94-2.06-.94L8.5 2.5l-.94 2.06-2.06.94zm10 10l.94 2.06.94-2.06 2.06-.94-2.06-.94-.94-2.06-.94 2.06-2.06.94z\"/><path d=\"M17.41 7.96l-1.37-1.37c-.4-.4-.92-.59-1.43-.59-.52 0-1.04.2-1.43.59L10.3 9.45l-7.72 7.72c-.78.78-.78 2.05 0 2.83L4 21.41c.39.39.9.59 1.41.59.51 0 1.02-.2 1.41-.59l7.78-7.78 2.81-2.81c.8-.78.8-2.07 0-2.86zM5.41 20L4 18.59l7.72-7.72 1.47 1.35L5.41 20z\"/>\n",
              "  </svg>\n",
              "      </button>\n",
              "      \n",
              "  <style>\n",
              "    .colab-df-container {\n",
              "      display:flex;\n",
              "      flex-wrap:wrap;\n",
              "      gap: 12px;\n",
              "    }\n",
              "\n",
              "    .colab-df-convert {\n",
              "      background-color: #E8F0FE;\n",
              "      border: none;\n",
              "      border-radius: 50%;\n",
              "      cursor: pointer;\n",
              "      display: none;\n",
              "      fill: #1967D2;\n",
              "      height: 32px;\n",
              "      padding: 0 0 0 0;\n",
              "      width: 32px;\n",
              "    }\n",
              "\n",
              "    .colab-df-convert:hover {\n",
              "      background-color: #E2EBFA;\n",
              "      box-shadow: 0px 1px 2px rgba(60, 64, 67, 0.3), 0px 1px 3px 1px rgba(60, 64, 67, 0.15);\n",
              "      fill: #174EA6;\n",
              "    }\n",
              "\n",
              "    [theme=dark] .colab-df-convert {\n",
              "      background-color: #3B4455;\n",
              "      fill: #D2E3FC;\n",
              "    }\n",
              "\n",
              "    [theme=dark] .colab-df-convert:hover {\n",
              "      background-color: #434B5C;\n",
              "      box-shadow: 0px 1px 3px 1px rgba(0, 0, 0, 0.15);\n",
              "      filter: drop-shadow(0px 1px 2px rgba(0, 0, 0, 0.3));\n",
              "      fill: #FFFFFF;\n",
              "    }\n",
              "  </style>\n",
              "\n",
              "      <script>\n",
              "        const buttonEl =\n",
              "          document.querySelector('#df-51793469-196e-49a0-9e6e-c8abb115e644 button.colab-df-convert');\n",
              "        buttonEl.style.display =\n",
              "          google.colab.kernel.accessAllowed ? 'block' : 'none';\n",
              "\n",
              "        async function convertToInteractive(key) {\n",
              "          const element = document.querySelector('#df-51793469-196e-49a0-9e6e-c8abb115e644');\n",
              "          const dataTable =\n",
              "            await google.colab.kernel.invokeFunction('convertToInteractive',\n",
              "                                                     [key], {});\n",
              "          if (!dataTable) return;\n",
              "\n",
              "          const docLinkHtml = 'Like what you see? Visit the ' +\n",
              "            '<a target=\"_blank\" href=https://colab.research.google.com/notebooks/data_table.ipynb>data table notebook</a>'\n",
              "            + ' to learn more about interactive tables.';\n",
              "          element.innerHTML = '';\n",
              "          dataTable['output_type'] = 'display_data';\n",
              "          await google.colab.output.renderOutput(dataTable, element);\n",
              "          const docLink = document.createElement('div');\n",
              "          docLink.innerHTML = docLinkHtml;\n",
              "          element.appendChild(docLink);\n",
              "        }\n",
              "      </script>\n",
              "    </div>\n",
              "  </div>\n",
              "  "
            ],
            "text/plain": [
              "   Unnamed: 0  Id                               job_title  \\\n",
              "0           0   0            à¸ˆà¸±à¸à¸©à¸¸à¹à¸žà¸—à¸¢à¹Œ (Ophthalmologist)   \n",
              "1           1   1                                Operator   \n",
              "2           2   2             Water resources engineering   \n",
              "3           3   3  à¸™à¸±à¸à¸§à¸´à¹€à¸—à¸¨à¸ªà¸±à¸¡à¸žà¸±à¸™à¸˜à¹Œ à¸›à¸£à¸°à¸ˆà¸³à¸à¸­à¸‡à¸§à¸´à¹€à¸—à¸¨à¸ªà¸±à¸¡à¸žà¸±à¸™à¸˜à¹Œ   \n",
              "4           4   4                       Chemical Engineer   \n",
              "\n",
              "                                    title  \n",
              "0            à¸ˆà¸±à¸à¸©à¸¸à¹à¸žà¸—à¸¢à¹Œ (ophthalmologist)  \n",
              "1                                operator  \n",
              "2             water resources engineering  \n",
              "3  à¸™à¸±à¸à¸§à¸´à¹€à¸—à¸¨à¸ªà¸±à¸¡à¸žà¸±à¸™à¸˜à¹Œ à¸›à¸£à¸°à¸ˆà¸³à¸à¸­à¸‡à¸§à¸´à¹€à¸—à¸¨à¸ªà¸±à¸¡à¸žà¸±à¸™à¸˜à¹Œ  \n",
              "4                       chemical engineer  "
            ]
          },
          "execution_count": 95,
          "metadata": {},
          "output_type": "execute_result"
        }
      ],
      "source": [
        "test_df.head()"
      ]
    },
    {
      "cell_type": "code",
      "execution_count": 134,
      "metadata": {
        "id": "USL7tYzqLg11"
      },
      "outputs": [],
      "source": [
        "test_df = test_df.drop(['job_title'], axis=1)"
      ]
    },
    {
      "cell_type": "code",
      "execution_count": 97,
      "metadata": {
        "colab": {
          "base_uri": "https://localhost:8080/",
          "height": 0
        },
        "id": "EmWL_25MRIyZ",
        "outputId": "72701291-9ca6-41f9-f787-46858f5ab453"
      },
      "outputs": [
        {
          "data": {
            "text/plain": [
              "count            8000\n",
              "unique           6184\n",
              "top       à¸œà¸¹à¹‰à¹€à¸‚à¸µà¸¢à¸™à¹à¸šà¸š\n",
              "freq               14\n",
              "Name: title, dtype: object"
            ]
          },
          "execution_count": 97,
          "metadata": {},
          "output_type": "execute_result"
        }
      ],
      "source": [
        "data_df['title'].describe()"
      ]
    },
    {
      "cell_type": "code",
      "execution_count": 135,
      "metadata": {
        "id": "HxhbTrB67-Dr"
      },
      "outputs": [],
      "source": [
        "count = data_df['occupation_index'].value_counts().sort_index().to_list()"
      ]
    },
    {
      "cell_type": "code",
      "execution_count": 99,
      "metadata": {
        "colab": {
          "base_uri": "https://localhost:8080/",
          "height": 0
        },
        "id": "qmFcwnf__HPe",
        "outputId": "a252730b-ecce-4668-a4d6-be7da9fdf9b1"
      },
      "outputs": [
        {
          "data": {
            "text/plain": [
              "597"
            ]
          },
          "execution_count": 99,
          "metadata": {},
          "output_type": "execute_result"
        }
      ],
      "source": [
        "len(count)"
      ]
    },
    {
      "cell_type": "code",
      "execution_count": 136,
      "metadata": {
        "colab": {
          "base_uri": "https://localhost:8080/",
          "height": 0
        },
        "id": "WC5K-UEP-x-G",
        "outputId": "8b407ffb-e74d-41c3-bc3c-5c40109a284a"
      },
      "outputs": [
        {
          "data": {
            "text/plain": [
              "(246, 199, 53)"
            ]
          },
          "execution_count": 136,
          "metadata": {},
          "output_type": "execute_result"
        }
      ],
      "source": [
        "x = []\n",
        "y = []\n",
        "z = []\n",
        "for i in range(len(count)):\n",
        "  if count[i] <= 9:\n",
        "    x.append(i)\n",
        "for i in range(len(count)):\n",
        "  if count[i] >9 and count[i] <=14:\n",
        "    y.append(i)\n",
        "for i in range(len(count)):\n",
        "  if count[i] >14 and count[i] <=17:\n",
        "    z.append(i)\n",
        "\n",
        "len(x), len(y), len(z)"
      ]
    },
    {
      "cell_type": "code",
      "execution_count": 137,
      "metadata": {
        "colab": {
          "base_uri": "https://localhost:8080/",
          "height": 0
        },
        "id": "4CguWORT89fZ",
        "outputId": "bee2f62e-fd57-4fc0-e21a-f6f7ad118765"
      },
      "outputs": [
        {
          "name": "stderr",
          "output_type": "stream",
          "text": [
            "<ipython-input-137-e8fa8331e1f8>:13: FutureWarning: The frame.append method is deprecated and will be removed from pandas in a future version. Use pandas.concat instead.\n",
            "  data_df = data_df.append([data_df_2]*4,ignore_index=True)\n",
            "<ipython-input-137-e8fa8331e1f8>:16: FutureWarning: The frame.append method is deprecated and will be removed from pandas in a future version. Use pandas.concat instead.\n",
            "  data_df = data_df.append([data_df_2]*2,ignore_index=True)\n",
            "<ipython-input-137-e8fa8331e1f8>:19: FutureWarning: The frame.append method is deprecated and will be removed from pandas in a future version. Use pandas.concat instead.\n",
            "  data_df = data_df.append([data_df_2],ignore_index=True)\n"
          ]
        }
      ],
      "source": [
        "# for i in x:\n",
        "#   data_df_2 = data_df[data_df[\"occupation_index\"]==i]\n",
        "#   data_df = data_df.append([data_df_2]*4,ignore_index=True)\n",
        "# for i in y:\n",
        "#   data_df_2 = data_df[data_df[\"occupation_index\"]==i]\n",
        "#   data_df = data_df.append([data_df_2]*2,ignore_index=True)\n",
        "# for i in y:\n",
        "#   data_df_2 = data_df[data_df[\"occupation_index\"]==i]\n",
        "#   data_df = data_df.append([data_df_2],ignore_index=True)\n",
        "\n",
        "for i in x:\n",
        "  data_df_2 = data_df[data_df[\"occupation_index\"]==i]\n",
        "  data_df = data_df.append([data_df_2]*4,ignore_index=True)\n",
        "for i in y:\n",
        "  data_df_2 = data_df[data_df[\"occupation_index\"]==i]\n",
        "  data_df = data_df.append([data_df_2]*2,ignore_index=True)\n",
        "for i in z:\n",
        "  data_df_2 = data_df[data_df[\"occupation_index\"]==i]\n",
        "  data_df = data_df.append([data_df_2],ignore_index=True)"
      ]
    },
    {
      "cell_type": "code",
      "execution_count": 138,
      "metadata": {
        "colab": {
          "base_uri": "https://localhost:8080/",
          "height": 0
        },
        "id": "m_HNd_vV_ucV",
        "outputId": "705a451b-69bc-448a-e714-56d57e544063"
      },
      "outputs": [
        {
          "data": {
            "text/plain": [
              "(20754, 6)"
            ]
          },
          "execution_count": 138,
          "metadata": {},
          "output_type": "execute_result"
        }
      ],
      "source": [
        "data_df.shape"
      ]
    },
    {
      "cell_type": "code",
      "execution_count": 139,
      "metadata": {
        "id": "d1iRPDIM9JOA"
      },
      "outputs": [],
      "source": [
        "import string\n",
        "import re\n",
        "\n",
        "def remove_punc(x):\n",
        "  return x.translate(str.maketrans('','',string.punctuation))\n",
        "\n",
        "data_df['title'] = data_df['title'].apply(remove_punc)\n",
        "test_df['title'] = test_df['title'].apply(remove_punc)"
      ]
    },
    {
      "cell_type": "code",
      "execution_count": 140,
      "metadata": {
        "id": "gLtAZrziSIRo"
      },
      "outputs": [],
      "source": [
        "data_df['title'] = data_df['title'].apply(lambda x: word_tokenize(x, engine = 'newmm'))\n",
        "test_df['title'] = test_df['title'].apply(lambda x: word_tokenize(x, engine = 'newmm'))"
      ]
    },
    {
      "cell_type": "code",
      "execution_count": 141,
      "metadata": {
        "colab": {
          "base_uri": "https://localhost:8080/",
          "height": 206
        },
        "id": "oBv7I_-IWxno",
        "outputId": "cd5bf84e-2c16-43d5-adaf-cd3d14b990e8"
      },
      "outputs": [
        {
          "data": {
            "text/html": [
              "\n",
              "  <div id=\"df-2314c2cd-bd98-4b76-add6-50fb37f3125c\">\n",
              "    <div class=\"colab-df-container\">\n",
              "      <div>\n",
              "<style scoped>\n",
              "    .dataframe tbody tr th:only-of-type {\n",
              "        vertical-align: middle;\n",
              "    }\n",
              "\n",
              "    .dataframe tbody tr th {\n",
              "        vertical-align: top;\n",
              "    }\n",
              "\n",
              "    .dataframe thead th {\n",
              "        text-align: right;\n",
              "    }\n",
              "</style>\n",
              "<table border=\"1\" class=\"dataframe\">\n",
              "  <thead>\n",
              "    <tr style=\"text-align: right;\">\n",
              "      <th></th>\n",
              "      <th>Unnamed: 0</th>\n",
              "      <th>occupation_group</th>\n",
              "      <th>occupation</th>\n",
              "      <th>occupation_group_index</th>\n",
              "      <th>occupation_index</th>\n",
              "      <th>title</th>\n",
              "    </tr>\n",
              "  </thead>\n",
              "  <tbody>\n",
              "    <tr>\n",
              "      <th>0</th>\n",
              "      <td>0</td>\n",
              "      <td>Top Level Executive</td>\n",
              "      <td>Executive Manager</td>\n",
              "      <td>142</td>\n",
              "      <td>211</td>\n",
              "      <td>[à¸œà¸¹à¹‰à¹à¸—à¸™, à¸à¹ˆà¸²à¸¢à¸šà¸£à¸´à¸«à¸²à¸£]</td>\n",
              "    </tr>\n",
              "    <tr>\n",
              "      <th>1</th>\n",
              "      <td>1</td>\n",
              "      <td>Pharmacist</td>\n",
              "      <td>Pharmacist</td>\n",
              "      <td>107</td>\n",
              "      <td>413</td>\n",
              "      <td>[à¹€à¸ à¸ªà¸±à¸Šà¸à¸£,  , à¸ªà¸²à¸‚à¸², à¹à¸«à¸¥à¸¡à¸‰à¸šà¸±à¸‡]</td>\n",
              "    </tr>\n",
              "    <tr>\n",
              "      <th>2</th>\n",
              "      <td>2</td>\n",
              "      <td>Teacher</td>\n",
              "      <td>Health and Physical Education Teacher</td>\n",
              "      <td>140</td>\n",
              "      <td>276</td>\n",
              "      <td>[à¸„à¸£à¸¹à¸œà¸¹à¹‰à¸ªà¸­à¸™, à¸§à¸´à¸Šà¸², à¸ªà¸¸à¸‚à¸¨à¸¶à¸à¸©à¸²]</td>\n",
              "    </tr>\n",
              "    <tr>\n",
              "      <th>3</th>\n",
              "      <td>3</td>\n",
              "      <td>Air Traffic Control</td>\n",
              "      <td>Air Traffic Control</td>\n",
              "      <td>7</td>\n",
              "      <td>23</td>\n",
              "      <td>[atc]</td>\n",
              "    </tr>\n",
              "    <tr>\n",
              "      <th>4</th>\n",
              "      <td>4</td>\n",
              "      <td>Engineering</td>\n",
              "      <td>Energy Engineer</td>\n",
              "      <td>50</td>\n",
              "      <td>195</td>\n",
              "      <td>[energy,  , monitoring,  , engineer]</td>\n",
              "    </tr>\n",
              "  </tbody>\n",
              "</table>\n",
              "</div>\n",
              "      <button class=\"colab-df-convert\" onclick=\"convertToInteractive('df-2314c2cd-bd98-4b76-add6-50fb37f3125c')\"\n",
              "              title=\"Convert this dataframe to an interactive table.\"\n",
              "              style=\"display:none;\">\n",
              "        \n",
              "  <svg xmlns=\"http://www.w3.org/2000/svg\" height=\"24px\"viewBox=\"0 0 24 24\"\n",
              "       width=\"24px\">\n",
              "    <path d=\"M0 0h24v24H0V0z\" fill=\"none\"/>\n",
              "    <path d=\"M18.56 5.44l.94 2.06.94-2.06 2.06-.94-2.06-.94-.94-2.06-.94 2.06-2.06.94zm-11 1L8.5 8.5l.94-2.06 2.06-.94-2.06-.94L8.5 2.5l-.94 2.06-2.06.94zm10 10l.94 2.06.94-2.06 2.06-.94-2.06-.94-.94-2.06-.94 2.06-2.06.94z\"/><path d=\"M17.41 7.96l-1.37-1.37c-.4-.4-.92-.59-1.43-.59-.52 0-1.04.2-1.43.59L10.3 9.45l-7.72 7.72c-.78.78-.78 2.05 0 2.83L4 21.41c.39.39.9.59 1.41.59.51 0 1.02-.2 1.41-.59l7.78-7.78 2.81-2.81c.8-.78.8-2.07 0-2.86zM5.41 20L4 18.59l7.72-7.72 1.47 1.35L5.41 20z\"/>\n",
              "  </svg>\n",
              "      </button>\n",
              "      \n",
              "  <style>\n",
              "    .colab-df-container {\n",
              "      display:flex;\n",
              "      flex-wrap:wrap;\n",
              "      gap: 12px;\n",
              "    }\n",
              "\n",
              "    .colab-df-convert {\n",
              "      background-color: #E8F0FE;\n",
              "      border: none;\n",
              "      border-radius: 50%;\n",
              "      cursor: pointer;\n",
              "      display: none;\n",
              "      fill: #1967D2;\n",
              "      height: 32px;\n",
              "      padding: 0 0 0 0;\n",
              "      width: 32px;\n",
              "    }\n",
              "\n",
              "    .colab-df-convert:hover {\n",
              "      background-color: #E2EBFA;\n",
              "      box-shadow: 0px 1px 2px rgba(60, 64, 67, 0.3), 0px 1px 3px 1px rgba(60, 64, 67, 0.15);\n",
              "      fill: #174EA6;\n",
              "    }\n",
              "\n",
              "    [theme=dark] .colab-df-convert {\n",
              "      background-color: #3B4455;\n",
              "      fill: #D2E3FC;\n",
              "    }\n",
              "\n",
              "    [theme=dark] .colab-df-convert:hover {\n",
              "      background-color: #434B5C;\n",
              "      box-shadow: 0px 1px 3px 1px rgba(0, 0, 0, 0.15);\n",
              "      filter: drop-shadow(0px 1px 2px rgba(0, 0, 0, 0.3));\n",
              "      fill: #FFFFFF;\n",
              "    }\n",
              "  </style>\n",
              "\n",
              "      <script>\n",
              "        const buttonEl =\n",
              "          document.querySelector('#df-2314c2cd-bd98-4b76-add6-50fb37f3125c button.colab-df-convert');\n",
              "        buttonEl.style.display =\n",
              "          google.colab.kernel.accessAllowed ? 'block' : 'none';\n",
              "\n",
              "        async function convertToInteractive(key) {\n",
              "          const element = document.querySelector('#df-2314c2cd-bd98-4b76-add6-50fb37f3125c');\n",
              "          const dataTable =\n",
              "            await google.colab.kernel.invokeFunction('convertToInteractive',\n",
              "                                                     [key], {});\n",
              "          if (!dataTable) return;\n",
              "\n",
              "          const docLinkHtml = 'Like what you see? Visit the ' +\n",
              "            '<a target=\"_blank\" href=https://colab.research.google.com/notebooks/data_table.ipynb>data table notebook</a>'\n",
              "            + ' to learn more about interactive tables.';\n",
              "          element.innerHTML = '';\n",
              "          dataTable['output_type'] = 'display_data';\n",
              "          await google.colab.output.renderOutput(dataTable, element);\n",
              "          const docLink = document.createElement('div');\n",
              "          docLink.innerHTML = docLinkHtml;\n",
              "          element.appendChild(docLink);\n",
              "        }\n",
              "      </script>\n",
              "    </div>\n",
              "  </div>\n",
              "  "
            ],
            "text/plain": [
              "   Unnamed: 0     occupation_group                             occupation  \\\n",
              "0           0  Top Level Executive                      Executive Manager   \n",
              "1           1           Pharmacist                             Pharmacist   \n",
              "2           2              Teacher  Health and Physical Education Teacher   \n",
              "3           3  Air Traffic Control                    Air Traffic Control   \n",
              "4           4          Engineering                        Energy Engineer   \n",
              "\n",
              "   occupation_group_index  occupation_index  \\\n",
              "0                     142               211   \n",
              "1                     107               413   \n",
              "2                     140               276   \n",
              "3                       7                23   \n",
              "4                      50               195   \n",
              "\n",
              "                                  title  \n",
              "0                  [à¸œà¸¹à¹‰à¹à¸—à¸™, à¸à¹ˆà¸²à¸¢à¸šà¸£à¸´à¸«à¸²à¸£]  \n",
              "1          [à¹€à¸ à¸ªà¸±à¸Šà¸à¸£,  , à¸ªà¸²à¸‚à¸², à¹à¸«à¸¥à¸¡à¸‰à¸šà¸±à¸‡]  \n",
              "2           [à¸„à¸£à¸¹à¸œà¸¹à¹‰à¸ªà¸­à¸™, à¸§à¸´à¸Šà¸², à¸ªà¸¸à¸‚à¸¨à¸¶à¸à¸©à¸²]  \n",
              "3                                 [atc]  \n",
              "4  [energy,  , monitoring,  , engineer]  "
            ]
          },
          "execution_count": 141,
          "metadata": {},
          "output_type": "execute_result"
        }
      ],
      "source": [
        "data_df.head()"
      ]
    },
    {
      "cell_type": "code",
      "execution_count": 142,
      "metadata": {
        "colab": {
          "base_uri": "https://localhost:8080/",
          "height": 0
        },
        "id": "iLyKbyqNW4Nl",
        "outputId": "10b82485-43a0-4d41-8b9f-aa3dabe70adf"
      },
      "outputs": [
        {
          "data": {
            "text/plain": [
              "array([' ', ' \\t', '  ', ..., 'â€™', 'â€œ', 'â€'], dtype='<U33')"
            ]
          },
          "execution_count": 142,
          "metadata": {},
          "output_type": "execute_result"
        }
      ],
      "source": [
        "all_the_string = list([])\n",
        "for sentence in data_df['title']:\n",
        "  for i in  sentence:\n",
        "    all_the_string.append(i)\n",
        "\n",
        "np_str = np.array(list(all_the_string))\n",
        "all_char = np.unique(np_str)\n",
        "all_char"
      ]
    },
    {
      "cell_type": "code",
      "execution_count": 143,
      "metadata": {
        "colab": {
          "base_uri": "https://localhost:8080/",
          "height": 0
        },
        "id": "bYHsu8lbapV6",
        "outputId": "9381b52d-fa65-4037-ed67-3eece73e118d"
      },
      "outputs": [
        {
          "name": "stdout",
          "output_type": "stream",
          "text": [
            "There are 4968 unique chars in the data set\n",
            "[' ' ' \\t' '  ' ... 'â€™' 'â€œ' 'â€']\n"
          ]
        }
      ],
      "source": [
        "sorted(all_char)\n",
        "print(\"There are %d unique chars in the data set\" % len(all_char))\n",
        "print(all_char)\n",
        "char_map = dict(zip(all_char, range(len(all_char))))"
      ]
    },
    {
      "cell_type": "code",
      "execution_count": 144,
      "metadata": {
        "colab": {
          "base_uri": "https://localhost:8080/",
          "height": 206
        },
        "id": "Gr03oxWrbmXk",
        "outputId": "63229e28-aa90-400b-94b4-9eb5e6680809"
      },
      "outputs": [
        {
          "data": {
            "text/html": [
              "\n",
              "  <div id=\"df-82d12282-2eca-4629-91a4-eed8f43365e8\">\n",
              "    <div class=\"colab-df-container\">\n",
              "      <div>\n",
              "<style scoped>\n",
              "    .dataframe tbody tr th:only-of-type {\n",
              "        vertical-align: middle;\n",
              "    }\n",
              "\n",
              "    .dataframe tbody tr th {\n",
              "        vertical-align: top;\n",
              "    }\n",
              "\n",
              "    .dataframe thead th {\n",
              "        text-align: right;\n",
              "    }\n",
              "</style>\n",
              "<table border=\"1\" class=\"dataframe\">\n",
              "  <thead>\n",
              "    <tr style=\"text-align: right;\">\n",
              "      <th></th>\n",
              "      <th>Unnamed: 0</th>\n",
              "      <th>occupation_group</th>\n",
              "      <th>occupation</th>\n",
              "      <th>occupation_group_index</th>\n",
              "      <th>occupation_index</th>\n",
              "      <th>title</th>\n",
              "    </tr>\n",
              "  </thead>\n",
              "  <tbody>\n",
              "    <tr>\n",
              "      <th>0</th>\n",
              "      <td>0</td>\n",
              "      <td>Top Level Executive</td>\n",
              "      <td>Executive Manager</td>\n",
              "      <td>142</td>\n",
              "      <td>211</td>\n",
              "      <td>[3745, 3764]</td>\n",
              "    </tr>\n",
              "    <tr>\n",
              "      <th>1</th>\n",
              "      <td>1</td>\n",
              "      <td>Pharmacist</td>\n",
              "      <td>Pharmacist</td>\n",
              "      <td>107</td>\n",
              "      <td>413</td>\n",
              "      <td>[4673, 0, 4269, 4816]</td>\n",
              "    </tr>\n",
              "    <tr>\n",
              "      <th>2</th>\n",
              "      <td>2</td>\n",
              "      <td>Teacher</td>\n",
              "      <td>Health and Physical Education Teacher</td>\n",
              "      <td>140</td>\n",
              "      <td>276</td>\n",
              "      <td>[3035, 4125, 4314]</td>\n",
              "    </tr>\n",
              "    <tr>\n",
              "      <th>3</th>\n",
              "      <td>3</td>\n",
              "      <td>Air Traffic Control</td>\n",
              "      <td>Air Traffic Control</td>\n",
              "      <td>7</td>\n",
              "      <td>23</td>\n",
              "      <td>[376]</td>\n",
              "    </tr>\n",
              "    <tr>\n",
              "      <th>4</th>\n",
              "      <td>4</td>\n",
              "      <td>Engineering</td>\n",
              "      <td>Energy Engineer</td>\n",
              "      <td>50</td>\n",
              "      <td>195</td>\n",
              "      <td>[972, 0, 1677, 0, 978]</td>\n",
              "    </tr>\n",
              "  </tbody>\n",
              "</table>\n",
              "</div>\n",
              "      <button class=\"colab-df-convert\" onclick=\"convertToInteractive('df-82d12282-2eca-4629-91a4-eed8f43365e8')\"\n",
              "              title=\"Convert this dataframe to an interactive table.\"\n",
              "              style=\"display:none;\">\n",
              "        \n",
              "  <svg xmlns=\"http://www.w3.org/2000/svg\" height=\"24px\"viewBox=\"0 0 24 24\"\n",
              "       width=\"24px\">\n",
              "    <path d=\"M0 0h24v24H0V0z\" fill=\"none\"/>\n",
              "    <path d=\"M18.56 5.44l.94 2.06.94-2.06 2.06-.94-2.06-.94-.94-2.06-.94 2.06-2.06.94zm-11 1L8.5 8.5l.94-2.06 2.06-.94-2.06-.94L8.5 2.5l-.94 2.06-2.06.94zm10 10l.94 2.06.94-2.06 2.06-.94-2.06-.94-.94-2.06-.94 2.06-2.06.94z\"/><path d=\"M17.41 7.96l-1.37-1.37c-.4-.4-.92-.59-1.43-.59-.52 0-1.04.2-1.43.59L10.3 9.45l-7.72 7.72c-.78.78-.78 2.05 0 2.83L4 21.41c.39.39.9.59 1.41.59.51 0 1.02-.2 1.41-.59l7.78-7.78 2.81-2.81c.8-.78.8-2.07 0-2.86zM5.41 20L4 18.59l7.72-7.72 1.47 1.35L5.41 20z\"/>\n",
              "  </svg>\n",
              "      </button>\n",
              "      \n",
              "  <style>\n",
              "    .colab-df-container {\n",
              "      display:flex;\n",
              "      flex-wrap:wrap;\n",
              "      gap: 12px;\n",
              "    }\n",
              "\n",
              "    .colab-df-convert {\n",
              "      background-color: #E8F0FE;\n",
              "      border: none;\n",
              "      border-radius: 50%;\n",
              "      cursor: pointer;\n",
              "      display: none;\n",
              "      fill: #1967D2;\n",
              "      height: 32px;\n",
              "      padding: 0 0 0 0;\n",
              "      width: 32px;\n",
              "    }\n",
              "\n",
              "    .colab-df-convert:hover {\n",
              "      background-color: #E2EBFA;\n",
              "      box-shadow: 0px 1px 2px rgba(60, 64, 67, 0.3), 0px 1px 3px 1px rgba(60, 64, 67, 0.15);\n",
              "      fill: #174EA6;\n",
              "    }\n",
              "\n",
              "    [theme=dark] .colab-df-convert {\n",
              "      background-color: #3B4455;\n",
              "      fill: #D2E3FC;\n",
              "    }\n",
              "\n",
              "    [theme=dark] .colab-df-convert:hover {\n",
              "      background-color: #434B5C;\n",
              "      box-shadow: 0px 1px 3px 1px rgba(0, 0, 0, 0.15);\n",
              "      filter: drop-shadow(0px 1px 2px rgba(0, 0, 0, 0.3));\n",
              "      fill: #FFFFFF;\n",
              "    }\n",
              "  </style>\n",
              "\n",
              "      <script>\n",
              "        const buttonEl =\n",
              "          document.querySelector('#df-82d12282-2eca-4629-91a4-eed8f43365e8 button.colab-df-convert');\n",
              "        buttonEl.style.display =\n",
              "          google.colab.kernel.accessAllowed ? 'block' : 'none';\n",
              "\n",
              "        async function convertToInteractive(key) {\n",
              "          const element = document.querySelector('#df-82d12282-2eca-4629-91a4-eed8f43365e8');\n",
              "          const dataTable =\n",
              "            await google.colab.kernel.invokeFunction('convertToInteractive',\n",
              "                                                     [key], {});\n",
              "          if (!dataTable) return;\n",
              "\n",
              "          const docLinkHtml = 'Like what you see? Visit the ' +\n",
              "            '<a target=\"_blank\" href=https://colab.research.google.com/notebooks/data_table.ipynb>data table notebook</a>'\n",
              "            + ' to learn more about interactive tables.';\n",
              "          element.innerHTML = '';\n",
              "          dataTable['output_type'] = 'display_data';\n",
              "          await google.colab.output.renderOutput(dataTable, element);\n",
              "          const docLink = document.createElement('div');\n",
              "          docLink.innerHTML = docLinkHtml;\n",
              "          element.appendChild(docLink);\n",
              "        }\n",
              "      </script>\n",
              "    </div>\n",
              "  </div>\n",
              "  "
            ],
            "text/plain": [
              "   Unnamed: 0     occupation_group                             occupation  \\\n",
              "0           0  Top Level Executive                      Executive Manager   \n",
              "1           1           Pharmacist                             Pharmacist   \n",
              "2           2              Teacher  Health and Physical Education Teacher   \n",
              "3           3  Air Traffic Control                    Air Traffic Control   \n",
              "4           4          Engineering                        Energy Engineer   \n",
              "\n",
              "   occupation_group_index  occupation_index                   title  \n",
              "0                     142               211            [3745, 3764]  \n",
              "1                     107               413   [4673, 0, 4269, 4816]  \n",
              "2                     140               276      [3035, 4125, 4314]  \n",
              "3                       7                23                   [376]  \n",
              "4                      50               195  [972, 0, 1677, 0, 978]  "
            ]
          },
          "execution_count": 144,
          "metadata": {},
          "output_type": "execute_result"
        }
      ],
      "source": [
        "def data_mapping(x):\n",
        "    global char_map\n",
        "    data = []\n",
        "    for i in x:\n",
        "      data.append(char_map[i])\n",
        "    return data\n",
        "\n",
        "data_df['title'] = data_df['title'].apply(data_mapping)\n",
        "data_df.head()"
      ]
    },
    {
      "cell_type": "code",
      "execution_count": 145,
      "metadata": {
        "id": "ygZEWuUQMDLz"
      },
      "outputs": [],
      "source": [
        "def data_mapping(x):\n",
        "    global char_map\n",
        "    data = []\n",
        "    for i in x:\n",
        "      try:\n",
        "        data.append(char_map[i])\n",
        "      except:\n",
        "        data.append(0)\n",
        "    return data\n",
        "test_df['title'] = test_df['title'].apply(data_mapping)"
      ]
    },
    {
      "cell_type": "code",
      "execution_count": 146,
      "metadata": {
        "colab": {
          "base_uri": "https://localhost:8080/",
          "height": 206
        },
        "id": "IfhXKJy9iG0h",
        "outputId": "b219418c-a8f4-439f-ab03-e9e0e0dd7681"
      },
      "outputs": [
        {
          "data": {
            "text/html": [
              "\n",
              "  <div id=\"df-f0b67c12-f8ed-46ea-8c99-7d723deb8480\">\n",
              "    <div class=\"colab-df-container\">\n",
              "      <div>\n",
              "<style scoped>\n",
              "    .dataframe tbody tr th:only-of-type {\n",
              "        vertical-align: middle;\n",
              "    }\n",
              "\n",
              "    .dataframe tbody tr th {\n",
              "        vertical-align: top;\n",
              "    }\n",
              "\n",
              "    .dataframe thead th {\n",
              "        text-align: right;\n",
              "    }\n",
              "</style>\n",
              "<table border=\"1\" class=\"dataframe\">\n",
              "  <thead>\n",
              "    <tr style=\"text-align: right;\">\n",
              "      <th></th>\n",
              "      <th>Unnamed: 0</th>\n",
              "      <th>Id</th>\n",
              "      <th>title</th>\n",
              "    </tr>\n",
              "  </thead>\n",
              "  <tbody>\n",
              "    <tr>\n",
              "      <th>0</th>\n",
              "      <td>0</td>\n",
              "      <td>0</td>\n",
              "      <td>[3128, 0, 1808]</td>\n",
              "    </tr>\n",
              "    <tr>\n",
              "      <th>1</th>\n",
              "      <td>1</td>\n",
              "      <td>1</td>\n",
              "      <td>[1807]</td>\n",
              "    </tr>\n",
              "    <tr>\n",
              "      <th>2</th>\n",
              "      <td>2</td>\n",
              "      <td>2</td>\n",
              "      <td>[2798, 0, 2255, 0, 980]</td>\n",
              "    </tr>\n",
              "    <tr>\n",
              "      <th>3</th>\n",
              "      <td>3</td>\n",
              "      <td>3</td>\n",
              "      <td>[3464, 4152, 0, 3628, 2907, 4152]</td>\n",
              "    </tr>\n",
              "    <tr>\n",
              "      <th>4</th>\n",
              "      <td>4</td>\n",
              "      <td>4</td>\n",
              "      <td>[609, 0, 978]</td>\n",
              "    </tr>\n",
              "  </tbody>\n",
              "</table>\n",
              "</div>\n",
              "      <button class=\"colab-df-convert\" onclick=\"convertToInteractive('df-f0b67c12-f8ed-46ea-8c99-7d723deb8480')\"\n",
              "              title=\"Convert this dataframe to an interactive table.\"\n",
              "              style=\"display:none;\">\n",
              "        \n",
              "  <svg xmlns=\"http://www.w3.org/2000/svg\" height=\"24px\"viewBox=\"0 0 24 24\"\n",
              "       width=\"24px\">\n",
              "    <path d=\"M0 0h24v24H0V0z\" fill=\"none\"/>\n",
              "    <path d=\"M18.56 5.44l.94 2.06.94-2.06 2.06-.94-2.06-.94-.94-2.06-.94 2.06-2.06.94zm-11 1L8.5 8.5l.94-2.06 2.06-.94-2.06-.94L8.5 2.5l-.94 2.06-2.06.94zm10 10l.94 2.06.94-2.06 2.06-.94-2.06-.94-.94-2.06-.94 2.06-2.06.94z\"/><path d=\"M17.41 7.96l-1.37-1.37c-.4-.4-.92-.59-1.43-.59-.52 0-1.04.2-1.43.59L10.3 9.45l-7.72 7.72c-.78.78-.78 2.05 0 2.83L4 21.41c.39.39.9.59 1.41.59.51 0 1.02-.2 1.41-.59l7.78-7.78 2.81-2.81c.8-.78.8-2.07 0-2.86zM5.41 20L4 18.59l7.72-7.72 1.47 1.35L5.41 20z\"/>\n",
              "  </svg>\n",
              "      </button>\n",
              "      \n",
              "  <style>\n",
              "    .colab-df-container {\n",
              "      display:flex;\n",
              "      flex-wrap:wrap;\n",
              "      gap: 12px;\n",
              "    }\n",
              "\n",
              "    .colab-df-convert {\n",
              "      background-color: #E8F0FE;\n",
              "      border: none;\n",
              "      border-radius: 50%;\n",
              "      cursor: pointer;\n",
              "      display: none;\n",
              "      fill: #1967D2;\n",
              "      height: 32px;\n",
              "      padding: 0 0 0 0;\n",
              "      width: 32px;\n",
              "    }\n",
              "\n",
              "    .colab-df-convert:hover {\n",
              "      background-color: #E2EBFA;\n",
              "      box-shadow: 0px 1px 2px rgba(60, 64, 67, 0.3), 0px 1px 3px 1px rgba(60, 64, 67, 0.15);\n",
              "      fill: #174EA6;\n",
              "    }\n",
              "\n",
              "    [theme=dark] .colab-df-convert {\n",
              "      background-color: #3B4455;\n",
              "      fill: #D2E3FC;\n",
              "    }\n",
              "\n",
              "    [theme=dark] .colab-df-convert:hover {\n",
              "      background-color: #434B5C;\n",
              "      box-shadow: 0px 1px 3px 1px rgba(0, 0, 0, 0.15);\n",
              "      filter: drop-shadow(0px 1px 2px rgba(0, 0, 0, 0.3));\n",
              "      fill: #FFFFFF;\n",
              "    }\n",
              "  </style>\n",
              "\n",
              "      <script>\n",
              "        const buttonEl =\n",
              "          document.querySelector('#df-f0b67c12-f8ed-46ea-8c99-7d723deb8480 button.colab-df-convert');\n",
              "        buttonEl.style.display =\n",
              "          google.colab.kernel.accessAllowed ? 'block' : 'none';\n",
              "\n",
              "        async function convertToInteractive(key) {\n",
              "          const element = document.querySelector('#df-f0b67c12-f8ed-46ea-8c99-7d723deb8480');\n",
              "          const dataTable =\n",
              "            await google.colab.kernel.invokeFunction('convertToInteractive',\n",
              "                                                     [key], {});\n",
              "          if (!dataTable) return;\n",
              "\n",
              "          const docLinkHtml = 'Like what you see? Visit the ' +\n",
              "            '<a target=\"_blank\" href=https://colab.research.google.com/notebooks/data_table.ipynb>data table notebook</a>'\n",
              "            + ' to learn more about interactive tables.';\n",
              "          element.innerHTML = '';\n",
              "          dataTable['output_type'] = 'display_data';\n",
              "          await google.colab.output.renderOutput(dataTable, element);\n",
              "          const docLink = document.createElement('div');\n",
              "          docLink.innerHTML = docLinkHtml;\n",
              "          element.appendChild(docLink);\n",
              "        }\n",
              "      </script>\n",
              "    </div>\n",
              "  </div>\n",
              "  "
            ],
            "text/plain": [
              "   Unnamed: 0  Id                              title\n",
              "0           0   0                    [3128, 0, 1808]\n",
              "1           1   1                             [1807]\n",
              "2           2   2            [2798, 0, 2255, 0, 980]\n",
              "3           3   3  [3464, 4152, 0, 3628, 2907, 4152]\n",
              "4           4   4                      [609, 0, 978]"
            ]
          },
          "execution_count": 146,
          "metadata": {},
          "output_type": "execute_result"
        }
      ],
      "source": [
        "test_df.head()"
      ]
    },
    {
      "cell_type": "markdown",
      "metadata": {
        "id": "7BZZYPuIMc59"
      },
      "source": [
        "## Preprocessing data for pytorch model"
      ]
    },
    {
      "cell_type": "code",
      "execution_count": 6,
      "metadata": {
        "id": "tYBrQCOX6tZb"
      },
      "outputs": [],
      "source": [
        "import torch\n",
        "import torch.nn as nn\n",
        "import torch.optim as optim\n",
        "import torch.nn.functional as F\n",
        "from torch.utils.data import Dataset, DataLoader"
      ]
    },
    {
      "cell_type": "code",
      "execution_count": 7,
      "metadata": {
        "id": "z64VZ4UxMkGh"
      },
      "outputs": [],
      "source": [
        "device = torch.device(\"cuda\" if torch.cuda.is_available() else \"cpu\")"
      ]
    },
    {
      "cell_type": "code",
      "execution_count": 147,
      "metadata": {
        "id": "SycOJ6cDMc5_"
      },
      "outputs": [],
      "source": [
        "class JobDataset(Dataset):\n",
        "\n",
        "  def __init__(self, data, label, label2):\n",
        "    self.label = label\n",
        "    self.data = data\n",
        "    self.label2 = label2\n",
        "    \n",
        "  def __len__(self):\n",
        "    return len(self.label)\n",
        "\n",
        "  def __getitem__(self,idx):\n",
        "    # print(self.label[idx])\n",
        "    # return torch.tensor(self.data[idx, 0]).to(device), torch.tensor(self.data[idx, 1], dtype=torch.long).to(device)\n",
        "    return torch.IntTensor(self.data[idx]).to(device), torch.FloatTensor(self.label[idx]).to(device), torch.FloatTensor(self.label2[idx]).to(device)"
      ]
    },
    {
      "cell_type": "code",
      "execution_count": 148,
      "metadata": {
        "id": "k2NPVYj5JU1H"
      },
      "outputs": [],
      "source": [
        "# split data into train, validation, test  \n",
        "\n",
        "data = data_df['title'].to_numpy()\n",
        "label1 = data_df['occupation_index'].to_numpy()\n",
        "label2 = data_df['occupation_group_index'].to_numpy()\n",
        "label = np.stack((label1, label2), axis=-1)\n",
        "\n",
        "from sklearn.model_selection import train_test_split\n",
        "\n",
        "X_train, X_val, y_train, y_val = train_test_split(data, label, stratify=label1, test_size=0.16, random_state=20) # 20\n",
        "# X_test, X_val, y_test, y_val = train_test_split(X_test1, y_test1, stratify=y_test1, test_size=0.5, random_state=9)"
      ]
    },
    {
      "cell_type": "code",
      "execution_count": 149,
      "metadata": {
        "id": "zhhksHOwDPVY"
      },
      "outputs": [],
      "source": [
        "y_train2 = y_train[:,1]\n",
        "y_train = y_train[:,0]\n",
        "\n",
        "y_val2 = y_val[:,1]\n",
        "y_val = y_val[:,0]"
      ]
    },
    {
      "cell_type": "code",
      "execution_count": 150,
      "metadata": {
        "id": "MbqjWv3rMlO8"
      },
      "outputs": [],
      "source": [
        "X_test = test_df['title'].to_numpy()"
      ]
    },
    {
      "cell_type": "code",
      "execution_count": 151,
      "metadata": {
        "id": "tssmwkcg6Vzw"
      },
      "outputs": [],
      "source": [
        "max = 0\n",
        "for i in X_train:\n",
        "  if len(i) > max: max = len(i)"
      ]
    },
    {
      "cell_type": "code",
      "execution_count": 152,
      "metadata": {
        "id": "oqDOZZVD7DZ0"
      },
      "outputs": [],
      "source": [
        "for i in X_val:\n",
        "  if len(i) > max: max = len(i)"
      ]
    },
    {
      "cell_type": "code",
      "execution_count": 153,
      "metadata": {
        "colab": {
          "base_uri": "https://localhost:8080/",
          "height": 0
        },
        "id": "Nafj9xcKMvKX",
        "outputId": "b2ff1315-fe2f-400c-e915-e7c8121a5e80"
      },
      "outputs": [
        {
          "data": {
            "text/plain": [
              "50"
            ]
          },
          "execution_count": 153,
          "metadata": {},
          "output_type": "execute_result"
        }
      ],
      "source": [
        "for i in X_test:\n",
        "  if len(i) > max: max = len(i)\n",
        "max"
      ]
    },
    {
      "cell_type": "code",
      "execution_count": 154,
      "metadata": {
        "id": "TJ_wMYe4vFXt"
      },
      "outputs": [],
      "source": [
        "for i in range(len(X_train)):\n",
        "  X_train[i] = np.pad(X_train[i], (0, max-len(X_train[i])), mode='constant')\n",
        "\n",
        "for i in range(len(X_test)):\n",
        "  X_test[i] = np.pad(X_test[i], (0, max-len(X_test[i])), mode='constant')\n",
        "  \n",
        "for i in range(len(X_val)):\n",
        "  X_val[i] = np.pad(X_val[i], (0, max-len(X_val[i])), mode='constant')"
      ]
    },
    {
      "cell_type": "code",
      "execution_count": 155,
      "metadata": {
        "colab": {
          "base_uri": "https://localhost:8080/",
          "height": 0
        },
        "id": "jS0n70lcrL3u",
        "outputId": "965d81ed-1d05-42d8-8227-c1c419304ca5"
      },
      "outputs": [
        {
          "data": {
            "text/plain": [
              "array([202, 560,  39, ..., 572, 123, 217])"
            ]
          },
          "execution_count": 155,
          "metadata": {},
          "output_type": "execute_result"
        }
      ],
      "source": [
        "y_train"
      ]
    },
    {
      "cell_type": "code",
      "execution_count": 156,
      "metadata": {
        "colab": {
          "base_uri": "https://localhost:8080/",
          "height": 0
        },
        "id": "3LAZLb0SmJYW",
        "outputId": "4ef9118b-c58e-47e3-d834-bbd6b278e76f"
      },
      "outputs": [
        {
          "name": "stderr",
          "output_type": "stream",
          "text": [
            "/usr/local/lib/python3.9/dist-packages/sklearn/preprocessing/_encoders.py:868: FutureWarning: `sparse` was renamed to `sparse_output` in version 1.2 and will be removed in 1.4. `sparse_output` is ignored unless you leave `sparse` to its default value.\n",
            "  warnings.warn(\n",
            "/usr/local/lib/python3.9/dist-packages/sklearn/preprocessing/_encoders.py:868: FutureWarning: `sparse` was renamed to `sparse_output` in version 1.2 and will be removed in 1.4. `sparse_output` is ignored unless you leave `sparse` to its default value.\n",
            "  warnings.warn(\n"
          ]
        }
      ],
      "source": [
        "from sklearn.preprocessing import OneHotEncoder\n",
        "\n",
        "onehot_encoder = OneHotEncoder(sparse=False)\n",
        "\n",
        "# y_test = onehot_encoder.fit_transform(y_test.reshape(-1,1))\n",
        "y_val = onehot_encoder.fit_transform(y_val.reshape(-1,1))\n",
        "y_train = onehot_encoder.fit_transform(y_train.reshape(-1,1))"
      ]
    },
    {
      "cell_type": "code",
      "execution_count": 157,
      "metadata": {
        "colab": {
          "base_uri": "https://localhost:8080/",
          "height": 0
        },
        "id": "7o9dlx2FEEd_",
        "outputId": "5f51a4f7-a7c6-4638-8d30-18a7029073df"
      },
      "outputs": [
        {
          "name": "stderr",
          "output_type": "stream",
          "text": [
            "/usr/local/lib/python3.9/dist-packages/sklearn/preprocessing/_encoders.py:868: FutureWarning: `sparse` was renamed to `sparse_output` in version 1.2 and will be removed in 1.4. `sparse_output` is ignored unless you leave `sparse` to its default value.\n",
            "  warnings.warn(\n",
            "/usr/local/lib/python3.9/dist-packages/sklearn/preprocessing/_encoders.py:868: FutureWarning: `sparse` was renamed to `sparse_output` in version 1.2 and will be removed in 1.4. `sparse_output` is ignored unless you leave `sparse` to its default value.\n",
            "  warnings.warn(\n"
          ]
        }
      ],
      "source": [
        "y_val2 = onehot_encoder.fit_transform(y_val2.reshape(-1,1))\n",
        "y_train2 = onehot_encoder.fit_transform(y_train2.reshape(-1,1))"
      ]
    },
    {
      "cell_type": "code",
      "execution_count": 158,
      "metadata": {
        "colab": {
          "base_uri": "https://localhost:8080/",
          "height": 0
        },
        "id": "C9jldDVVNM_J",
        "outputId": "be7a2fad-065b-4990-ceca-ec30e8e691df"
      },
      "outputs": [
        {
          "data": {
            "text/plain": [
              "((597,), (154,))"
            ]
          },
          "execution_count": 158,
          "metadata": {},
          "output_type": "execute_result"
        }
      ],
      "source": [
        "y_val[0].shape, y_val2[0].shape"
      ]
    },
    {
      "cell_type": "code",
      "execution_count": null,
      "metadata": {
        "id": "L_uwXYfS7jNV"
      },
      "outputs": [],
      "source": [
        "# !pip install transformers"
      ]
    },
    {
      "cell_type": "code",
      "execution_count": null,
      "metadata": {
        "id": "-txZgNuf-5Gk"
      },
      "outputs": [],
      "source": [
        "# from transformers import (\n",
        "#     AutoConfig,\n",
        "#     RobertaConfig,\n",
        "#     AutoModelForMaskedLM,\n",
        "#     AutoTokenizer,\n",
        "#     AutoModelForSequenceClassification,\n",
        "#     CamembertTokenizer,\n",
        "#     pipeline,\n",
        "#     Trainer,\n",
        "#     TrainingArguments,\n",
        "#     DataCollatorWithPadding\n",
        "# )"
      ]
    },
    {
      "cell_type": "code",
      "execution_count": null,
      "metadata": {
        "colab": {
          "base_uri": "https://localhost:8080/"
        },
        "id": "eUeCwMaOAW-N",
        "outputId": "f2d5a41f-ad9b-4bb0-ecd3-161d92af522b"
      },
      "outputs": [
        {
          "name": "stderr",
          "output_type": "stream",
          "text": [
            "Some weights of the model checkpoint at airesearch/wangchanberta-base-att-spm-uncased were not used when initializing CamembertForSequenceClassification: ['lm_head.decoder.weight', 'lm_head.dense.bias', 'lm_head.bias', 'lm_head.layer_norm.bias', 'lm_head.decoder.bias', 'roberta.pooler.dense.weight', 'lm_head.layer_norm.weight', 'roberta.pooler.dense.bias', 'lm_head.dense.weight']\n",
            "- This IS expected if you are initializing CamembertForSequenceClassification from the checkpoint of a model trained on another task or with another architecture (e.g. initializing a BertForSequenceClassification model from a BertForPreTraining model).\n",
            "- This IS NOT expected if you are initializing CamembertForSequenceClassification from the checkpoint of a model that you expect to be exactly identical (initializing a BertForSequenceClassification model from a BertForSequenceClassification model).\n",
            "Some weights of CamembertForSequenceClassification were not initialized from the model checkpoint at airesearch/wangchanberta-base-att-spm-uncased and are newly initialized: ['classifier.out_proj.bias', 'classifier.dense.bias', 'classifier.dense.weight', 'classifier.out_proj.weight']\n",
            "You should probably TRAIN this model on a down-stream task to be able to use it for predictions and inference.\n"
          ]
        }
      ],
      "source": [
        "# model_config = AutoConfig.from_pretrained(\n",
        "#         'airesearch/wangchanberta-base-att-spm-uncased',\n",
        "#          revision='main',\n",
        "#          num_labels=597\n",
        "#     )\n",
        "\n",
        "\n",
        "# model = AutoModelForSequenceClassification.from_pretrained('airesearch/wangchanberta-base-att-spm-uncased',\n",
        "#                                                         revision='main',\n",
        "#                                                         config=model_config)\n",
        "\n",
        "# model"
      ]
    },
    {
      "cell_type": "markdown",
      "metadata": {
        "id": "qKeikxDy5Ahs"
      },
      "source": [
        "# Build a model for classifying these job title.\n"
      ]
    },
    {
      "cell_type": "code",
      "execution_count": 159,
      "metadata": {
        "id": "uAD1Q_E6YWXq"
      },
      "outputs": [],
      "source": [
        "# fifth try 128\n",
        "# eight tyy 128 on linearn 1\n",
        "# 12th try 256 on linear1\n",
        "# 13th try 512\n",
        "# \n",
        "# 15th try 256 / emb 128 à¸¡à¸²à¸•à¸¥à¸­à¸”\n",
        "# 18th embeddingv256\n",
        "# 19th embedding512\n",
        "\n",
        "class BiLSTM(nn.Module):\n",
        "    \n",
        "    def __init__(self):\n",
        "        super(BiLSTM, self).__init__()\n",
        "        self.hidden_size = 64\n",
        "        drp = 0.1\n",
        "        n_classes = 597\n",
        "        self.embedding = nn.Embedding(len(char_map), 256)\n",
        "        # self.embedding.weight = nn.Parameter(torch.tensor(embedding_matrix, dtype=torch.float32))\n",
        "        # self.embedding.weight.requires_grad = False\n",
        "        self.lstm = nn.LSTM(256, self.hidden_size, bidirectional=True, batch_first=True)\n",
        "        self.linear = nn.Linear(self.hidden_size*2 , 512)\n",
        "        self.linear2 = nn.Linear(256,256)\n",
        "        self.relu = nn.ReLU()\n",
        "        self.dropout = nn.Dropout(drp)\n",
        "\n",
        "        self.out = nn.Linear(512, 597)\n",
        "        self.out2 = nn.Linear(512, 154)\n",
        "\n",
        "\n",
        "    def forward(self, x):\n",
        "        #rint(x.size())\n",
        "        h_embedding = self.embedding(x)\n",
        "        #_embedding = torch.squeeze(torch.unsqueeze(h_embedding, 0))\n",
        "        h_lstm, _ = self.lstm(h_embedding)\n",
        "        avg_pool = torch.mean(h_lstm, 1)\n",
        "        max_pool, _ = torch.max(h_lstm, 1)\n",
        "        # conc = torch.cat(( avg_pool, max_pool), 1)\n",
        "        conc = self.relu(self.linear(max_pool))\n",
        "        conc = self.dropout(conc)\n",
        "        out2 = self.out2(conc)\n",
        "        out = self.out(conc)\n",
        "        return out, out2\n",
        "\n",
        "model = BiLSTM().to(device)"
      ]
    },
    {
      "cell_type": "code",
      "execution_count": 34,
      "metadata": {
        "colab": {
          "base_uri": "https://localhost:8080/",
          "height": 0
        },
        "id": "MfxzA7gv3ggL",
        "outputId": "17316247-5940-459c-9e37-85446ae080b0"
      },
      "outputs": [
        {
          "name": "stdout",
          "output_type": "stream",
          "text": [
            "Looking in indexes: https://pypi.org/simple, https://us-python.pkg.dev/colab-wheels/public/simple/\n",
            "Collecting torchviz\n",
            "  Downloading torchviz-0.0.2.tar.gz (4.9 kB)\n",
            "  Preparing metadata (setup.py) ... \u001b[?25l\u001b[?25hdone\n",
            "Requirement already satisfied: torch in /usr/local/lib/python3.9/dist-packages (from torchviz) (1.13.1+cu116)\n",
            "Requirement already satisfied: graphviz in /usr/local/lib/python3.9/dist-packages (from torchviz) (0.10.1)\n",
            "Requirement already satisfied: typing-extensions in /usr/local/lib/python3.9/dist-packages (from torch->torchviz) (4.5.0)\n",
            "Building wheels for collected packages: torchviz\n",
            "  Building wheel for torchviz (setup.py) ... \u001b[?25l\u001b[?25hdone\n",
            "  Created wheel for torchviz: filename=torchviz-0.0.2-py3-none-any.whl size=4148 sha256=b2751df3b77f69388c9e3192a47fdfb84151fcbe355b87a4bcdc99909b112c88\n",
            "  Stored in directory: /root/.cache/pip/wheels/29/65/6e/db2515eb1dc760fecd36b40d54df65c1e18534013f1c037e2e\n",
            "Successfully built torchviz\n",
            "Installing collected packages: torchviz\n",
            "Successfully installed torchviz-0.0.2\n"
          ]
        }
      ],
      "source": [
        "!pip install torchviz"
      ]
    },
    {
      "cell_type": "markdown",
      "metadata": {
        "id": "-tXZiLZ4Mc6E"
      },
      "source": [
        "## #TODO 3: Build and evaluate a model for \"action\" classification\n"
      ]
    },
    {
      "cell_type": "code",
      "execution_count": 160,
      "metadata": {
        "id": "4Dd0R-AiRvup"
      },
      "outputs": [],
      "source": [
        "##  prepare dataloader \n",
        "\n",
        "BATCHS_SIZE = 64\n",
        "train_loader = DataLoader( JobDataset(X_train, y_train, y_train2), batch_size = BATCHS_SIZE, shuffle = True)\n",
        "val_loader = DataLoader( JobDataset(X_val, y_val, y_val2), batch_size = BATCHS_SIZE)\n",
        "y_test = y_train[:2798]\n",
        "y_test2 = y_train2[:2798]\n",
        "test_loader = DataLoader( JobDataset(X_test, y_test, y_test2), batch_size = BATCHS_SIZE)"
      ]
    },
    {
      "cell_type": "code",
      "execution_count": 161,
      "metadata": {
        "colab": {
          "base_uri": "https://localhost:8080/",
          "height": 0
        },
        "id": "zZCjnIhSHJ9I",
        "outputId": "5425fba7-23c8-4a4e-8a98-332b87f9d654"
      },
      "outputs": [
        {
          "name": "stdout",
          "output_type": "stream",
          "text": [
            "torch.Size([64, 597]) torch.Size([64, 154])\n"
          ]
        }
      ],
      "source": [
        "for i,j,k in train_loader:\n",
        "  print(model(i)[0].shape, model(i)[1].shape)\n",
        "  break"
      ]
    },
    {
      "cell_type": "code",
      "execution_count": 162,
      "metadata": {
        "id": "S_5VocGgv91Q"
      },
      "outputs": [],
      "source": [
        "del X_train, y_train, y_val, X_val"
      ]
    },
    {
      "cell_type": "code",
      "execution_count": 163,
      "metadata": {
        "id": "UKjKIIyrPXDL"
      },
      "outputs": [],
      "source": [
        "from torch.utils.data import DataLoader\n",
        "import torch.optim as optim\n",
        "from torch.optim.lr_scheduler import ReduceLROnPlateau\n",
        "\n",
        "model = model.to(device)\n",
        "criterion = nn.CrossEntropyLoss()\n",
        "optimizer = torch.optim.Adam(model.parameters(), lr=1e-3)\n",
        "scheduler = ReduceLROnPlateau(optimizer, factor=0.1, patience=4, verbose=True, min_lr=1e-8)\n",
        "\n",
        "best_val_loss = np.inf"
      ]
    },
    {
      "cell_type": "code",
      "execution_count": 164,
      "metadata": {
        "colab": {
          "base_uri": "https://localhost:8080/",
          "height": 0
        },
        "id": "AKNfsIlX5Ak9",
        "outputId": "c9710d88-0b01-4751-cafa-0a1141970331"
      },
      "outputs": [
        {
          "name": "stdout",
          "output_type": "stream",
          "text": [
            "EPOCH : 1\n",
            " train_loss: 5.062727928161621, LR: 0.001\n",
            " val_loss: 2.6229090690612793, LR: 0.001\n",
            "EPOCH : 2\n",
            " train_loss: 1.462903380393982, LR: 0.001\n",
            " val_loss: 0.9755018949508667, LR: 0.001\n",
            "EPOCH : 3\n",
            " train_loss: 0.5715715289115906, LR: 0.001\n",
            " val_loss: 0.643349826335907, LR: 0.001\n",
            "EPOCH : 4\n",
            " train_loss: 0.331181138753891, LR: 0.001\n",
            " val_loss: 0.5224826335906982, LR: 0.001\n",
            "EPOCH : 5\n",
            " train_loss: 0.2250339686870575, LR: 0.001\n",
            " val_loss: 0.5018488764762878, LR: 0.001\n",
            "EPOCH : 6\n",
            " train_loss: 0.18534471094608307, LR: 0.001\n",
            " val_loss: 0.49032062292099, LR: 0.001\n",
            "EPOCH : 7\n",
            " train_loss: 0.1619129627943039, LR: 0.001\n",
            " val_loss: 0.4865942895412445, LR: 0.001\n",
            "EPOCH : 8\n",
            " train_loss: 0.1476651132106781, LR: 0.001\n",
            " val_loss: 0.4644777774810791, LR: 0.001\n",
            "EPOCH : 9\n",
            " train_loss: 0.13608524203300476, LR: 0.001\n",
            " val_loss: 0.4613798260688782, LR: 0.001\n",
            "EPOCH : 10\n",
            " train_loss: 0.12782229483127594, LR: 0.001\n",
            " val_loss: 0.4829302132129669, LR: 0.001\n",
            "EPOCH : 11\n",
            " train_loss: 0.12496590614318848, LR: 0.001\n",
            " val_loss: 0.4797060489654541, LR: 0.001\n",
            "EPOCH : 12\n",
            " train_loss: 0.1182219386100769, LR: 0.001\n",
            " val_loss: 0.4684852361679077, LR: 0.001\n",
            "EPOCH : 13\n",
            " train_loss: 0.11353202164173126, LR: 0.001\n",
            " val_loss: 0.4729675054550171, LR: 0.001\n",
            "EPOCH : 14\n",
            " train_loss: 0.11007153987884521, LR: 0.001\n",
            " val_loss: 0.48380786180496216, LR: 0.001\n",
            "Epoch 00014: reducing learning rate of group 0 to 1.0000e-04.\n",
            "EPOCH : 15\n",
            " train_loss: 0.08161818236112595, LR: 0.0001\n",
            " val_loss: 0.45026370882987976, LR: 0.0001\n",
            "EPOCH : 16\n",
            " train_loss: 0.06499747931957245, LR: 0.0001\n",
            " val_loss: 0.4465164244174957, LR: 0.0001\n",
            "EPOCH : 17\n",
            " train_loss: 0.0609063096344471, LR: 0.0001\n",
            " val_loss: 0.4466087818145752, LR: 0.0001\n",
            "EPOCH : 18\n",
            " train_loss: 0.058618009090423584, LR: 0.0001\n",
            " val_loss: 0.4482659697532654, LR: 0.0001\n",
            "EPOCH : 19\n",
            " train_loss: 0.059730272740125656, LR: 0.0001\n",
            " val_loss: 0.4471248984336853, LR: 0.0001\n",
            "EPOCH : 20\n",
            " train_loss: 0.058914296329021454, LR: 0.0001\n",
            " val_loss: 0.451431006193161, LR: 0.0001\n",
            "EPOCH : 21\n",
            " train_loss: 0.05805229768157005, LR: 0.0001\n",
            " val_loss: 0.45136329531669617, LR: 0.0001\n",
            "Epoch 00021: reducing learning rate of group 0 to 1.0000e-05.\n",
            "EPOCH : 22\n",
            " train_loss: 0.05303959175944328, LR: 1e-05\n",
            " val_loss: 0.45139428973197937, LR: 1e-05\n",
            "EPOCH : 23\n",
            " train_loss: 0.0534658282995224, LR: 1e-05\n",
            " val_loss: 0.45161035656929016, LR: 1e-05\n",
            "EPOCH : 24\n",
            " train_loss: 0.05249191075563431, LR: 1e-05\n",
            " val_loss: 0.45193374156951904, LR: 1e-05\n",
            "EPOCH : 25\n",
            " train_loss: 0.05255043879151344, LR: 1e-05\n",
            " val_loss: 0.45216792821884155, LR: 1e-05\n",
            "EPOCH : 26\n",
            " train_loss: 0.05257369577884674, LR: 1e-05\n",
            " val_loss: 0.4523666203022003, LR: 1e-05\n",
            "Epoch 00026: reducing learning rate of group 0 to 1.0000e-06.\n",
            "EPOCH : 27\n",
            " train_loss: 0.051588546484708786, LR: 1.0000000000000002e-06\n",
            " val_loss: 0.452396959066391, LR: 1.0000000000000002e-06\n",
            "EPOCH : 28\n",
            " train_loss: 0.05118866264820099, LR: 1.0000000000000002e-06\n",
            " val_loss: 0.4524585008621216, LR: 1.0000000000000002e-06\n",
            "EPOCH : 29\n",
            " train_loss: 0.05181724950671196, LR: 1.0000000000000002e-06\n",
            " val_loss: 0.4525032341480255, LR: 1.0000000000000002e-06\n",
            "EPOCH : 30\n",
            " train_loss: 0.05261481553316116, LR: 1.0000000000000002e-06\n",
            " val_loss: 0.45254749059677124, LR: 1.0000000000000002e-06\n"
          ]
        }
      ],
      "source": [
        "## training loop\n",
        "\n",
        "model_checkpoint_path = './BasicModel_weight1.h5'\n",
        "# 18th try\n",
        "\n",
        "NUM_EPOCHS = 30\n",
        "for n_epoch in range(NUM_EPOCHS):\n",
        "\n",
        "  train_loss = []\n",
        "  model.train()\n",
        "  for X_train, Y_train, Y_train2 in train_loader:\n",
        "    optimizer.zero_grad()\n",
        "    Y_pred,Y_pred2 = model(X_train)\n",
        "    # print(Y_pred, Y_train)\n",
        "    loss = criterion(Y_pred, Y_train)\n",
        "    train_loss.append(loss)\n",
        "\n",
        "    loss2 = criterion(Y_pred2, Y_train2)\n",
        "    # print(loss2)\n",
        "    # break\n",
        "    loss = loss + 0.8*loss2\n",
        "    loss.backward()\n",
        "    optimizer.step()\n",
        "  \n",
        "  avg_train_loss = torch.stack(train_loss, axis = 0).mean()\n",
        "\n",
        "  model.eval()\n",
        "  with torch.inference_mode():\n",
        "    val_loss = []\n",
        "    val_acc = []\n",
        "    y_val = []\n",
        "    for X_val, Y_val, _ in val_loader:\n",
        "      Y_pred, Y_pred2 = model(X_val)\n",
        "      y_val.append(Y_pred)\n",
        "      loss = criterion(Y_pred, Y_val)\n",
        "      val_loss.append(loss)\n",
        "    \n",
        "    avg_val_loss = torch.stack(val_loss, axis = 0).mean()\n",
        "\n",
        "    print(\"EPOCH :\", n_epoch + 1)\n",
        "    print(f\" train_loss: {avg_train_loss}, LR: {optimizer.param_groups[0]['lr']}\")\n",
        "    print(f\" val_loss: {avg_val_loss}, LR: {optimizer.param_groups[0]['lr']}\")\n",
        "    \n",
        "  if avg_val_loss < best_val_loss:\n",
        "    best_val_loss = avg_val_loss\n",
        "    torch.save(model.state_dict(), model_checkpoint_path)\n",
        "\n",
        "  scheduler.step(avg_val_loss)\n",
        "  # break\n"
      ]
    },
    {
      "cell_type": "code",
      "execution_count": null,
      "metadata": {
        "colab": {
          "base_uri": "https://localhost:8080/"
        },
        "id": "dBXf7MmpXv0E",
        "outputId": "e3d71788-65f4-4875-fd9c-45729c092bd2"
      },
      "outputs": [
        {
          "data": {
            "text/plain": [
              "(torch.Size([26, 597]), torch.Size([53, 597]))"
            ]
          },
          "execution_count": 499,
          "metadata": {},
          "output_type": "execute_result"
        }
      ],
      "source": [
        "# Y_pred.shape, Y_train.shape"
      ]
    },
    {
      "cell_type": "code",
      "execution_count": 165,
      "metadata": {
        "colab": {
          "base_uri": "https://localhost:8080/",
          "height": 0
        },
        "id": "XaYFOBBUZPVK",
        "outputId": "ebb40845-595e-4fe5-b47d-bd4a7f33e327"
      },
      "outputs": [
        {
          "data": {
            "text/plain": [
              "<All keys matched successfully>"
            ]
          },
          "execution_count": 165,
          "metadata": {},
          "output_type": "execute_result"
        }
      ],
      "source": [
        "model_checkpoint_path = '/content/BasicModel_weight1.h5'\n",
        "model.load_state_dict(torch.load(model_checkpoint_path))"
      ]
    },
    {
      "cell_type": "code",
      "execution_count": null,
      "metadata": {
        "colab": {
          "base_uri": "https://localhost:8080/"
        },
        "id": "6M2we0zSnk5w",
        "outputId": "2e2d511f-6caa-467b-aec1-524313abaccf"
      },
      "outputs": [
        {
          "data": {
            "text/plain": [
              "(2798, 2798)"
            ]
          },
          "execution_count": 754,
          "metadata": {},
          "output_type": "execute_result"
        }
      ],
      "source": [
        "len(X_test), len(y_test)"
      ]
    },
    {
      "cell_type": "code",
      "execution_count": null,
      "metadata": {
        "id": "ERLHCmGZJJ41"
      },
      "outputs": [],
      "source": [
        "# predict classes of test data\n",
        "\n",
        "from sklearn.metrics import confusion_matrix, f1_score\n",
        "import seaborn as sns\n",
        "import pandas as pd\n",
        "import matplotlib.pyplot as plt\n",
        "\n",
        "def result(data_loader, model):\n",
        "  model.eval()\n",
        "  with torch.no_grad():\n",
        "\n",
        "    model_results = []\n",
        "    for x, target,_ in data_loader:\n",
        "      y_pred,_ = model(x)\n",
        "      y_pred = torch.argmax(y_pred, dim=1)\n",
        "      model_results.extend(y_pred.cpu().numpy())\n",
        "      \n",
        "  return model_results\n",
        "\n",
        "results = result(test_loader, model) "
      ]
    },
    {
      "cell_type": "code",
      "execution_count": null,
      "metadata": {
        "id": "glDN1DCVqkvB"
      },
      "outputs": [],
      "source": [
        "index = np.arange(2798)"
      ]
    },
    {
      "cell_type": "code",
      "execution_count": null,
      "metadata": {
        "id": "tRz_GDKoqCpS"
      },
      "outputs": [],
      "source": [
        "a = pd.DataFrame(list(zip(index,results)), columns=['Id','Predicted'])"
      ]
    },
    {
      "cell_type": "code",
      "execution_count": null,
      "metadata": {
        "id": "1EPP8XfRq9uk"
      },
      "outputs": [],
      "source": [
        "a.to_csv('eighteenth_try.csv', index = False) # save test's predicted class"
      ]
    },
    {
      "cell_type": "code",
      "execution_count": 166,
      "metadata": {
        "colab": {
          "base_uri": "https://localhost:8080/",
          "height": 0
        },
        "id": "hyNRmJTa1tAl",
        "outputId": "844894e2-9619-4eaf-8455-2c1a6780a4f9"
      },
      "outputs": [
        {
          "name": "stdout",
          "output_type": "stream",
          "text": [
            "Val accuracy, Val F1 :  [0.9114724480578139, 0.9001864505405526]\n"
          ]
        }
      ],
      "source": [
        "from sklearn.metrics import confusion_matrix, f1_score\n",
        "import seaborn as sns\n",
        "import pandas as pd\n",
        "import matplotlib.pyplot as plt\n",
        "\n",
        "def evaluate(data_loader, model):\n",
        "  model.eval()\n",
        "  with torch.no_grad():\n",
        "\n",
        "    model_results = []\n",
        "    targets = []\n",
        "    for x, target,_ in data_loader:\n",
        "      y_pred,_ = model(x)\n",
        "      y_pred = torch.argmax(y_pred, dim=1)\n",
        "      model_results.extend(y_pred.cpu().numpy())\n",
        "      target = torch.argmax(target, dim=1)\n",
        "      targets.extend(target.cpu().numpy())\n",
        "\n",
        "    # df_cm = pd.DataFrame(confusion_matrix(targets, model_results))\n",
        "    # plt.figure(figsize = (10,7))\n",
        "    # plt.title(\"Confusion Matrix\")\n",
        "    # sns.heatmap(df_cm, annot=True)\n",
        "      \n",
        "  return [accuracy_score(model_results,targets), f1_score(model_results,targets, average='macro')]\n",
        "      \n",
        "print(\"Val accuracy, Val F1 : \", evaluate(val_loader, model))"
      ]
    },
    {
      "cell_type": "code",
      "execution_count": 39,
      "metadata": {
        "colab": {
          "base_uri": "https://localhost:8080/",
          "height": 35
        },
        "id": "7tHNDjb83uJF",
        "outputId": "d146b448-bb96-4c91-9b12-933330600352"
      },
      "outputs": [
        {
          "data": {
            "application/vnd.google.colaboratory.intrinsic+json": {
              "type": "string"
            },
            "text/plain": [
              "'rnn_torchviz.png'"
            ]
          },
          "execution_count": 39,
          "metadata": {},
          "output_type": "execute_result"
        }
      ],
      "source": [
        "from torchviz import make_dot\n",
        "\n",
        "batch = next(iter(train_loader))\n",
        "yhat = model(batch[0])\n",
        "\n",
        "make_dot(yhat, params=dict(list(model.named_parameters()))).render(\"lstm_torchviz\", format=\"png\")"
      ]
    },
    {
      "cell_type": "code",
      "execution_count": 173,
      "metadata": {
        "colab": {
          "base_uri": "https://localhost:8080/",
          "height": 0
        },
        "id": "Nh4GfL_3-nri",
        "outputId": "2359e92b-be1f-4eb7-b808-5c2018473b49"
      },
      "outputs": [
        {
          "name": "stdout",
          "output_type": "stream",
          "text": [
            "Looking in indexes: https://pypi.org/simple, https://us-python.pkg.dev/colab-wheels/public/simple/\n",
            "Collecting torchview\n",
            "  Downloading torchview-0.2.6-py3-none-any.whl (25 kB)\n",
            "Installing collected packages: torchview\n",
            "Successfully installed torchview-0.2.6\n"
          ]
        }
      ],
      "source": [
        "!pip install torchview"
      ]
    },
    {
      "cell_type": "code",
      "execution_count": 209,
      "metadata": {
        "colab": {
          "base_uri": "https://localhost:8080/",
          "height": 893
        },
        "id": "uNQmvU9r_zzc",
        "outputId": "c5aab3cc-f417-40e6-c94b-ffeb55c30fd4"
      },
      "outputs": [
        {
          "data": {
            "image/svg+xml": "<?xml version=\"1.0\" encoding=\"UTF-8\" standalone=\"no\"?>\n<!DOCTYPE svg PUBLIC \"-//W3C//DTD SVG 1.1//EN\"\n \"http://www.w3.org/Graphics/SVG/1.1/DTD/svg11.dtd\">\n<!-- Generated by graphviz version 2.43.0 (0)\n -->\n<!-- Title: model Pages: 1 -->\n<svg width=\"514pt\" height=\"654pt\"\n viewBox=\"0.00 0.00 514.00 654.00\" xmlns=\"http://www.w3.org/2000/svg\" xmlns:xlink=\"http://www.w3.org/1999/xlink\">\n<g id=\"graph0\" class=\"graph\" transform=\"scale(1 1) rotate(0) translate(4 650)\">\n<title>model</title>\n<polygon fill=\"white\" stroke=\"transparent\" points=\"-4,4 -4,-650 510,-650 510,4 -4,4\"/>\n<!-- 0 -->\n<g id=\"node1\" class=\"node\">\n<title>0</title>\n<polygon fill=\"lightyellow\" stroke=\"transparent\" points=\"277.5,-646 141.5,-646 141.5,-614 277.5,-614 277.5,-646\"/>\n<polygon fill=\"none\" stroke=\"black\" points=\"141.5,-614 141.5,-646 224.5,-646 224.5,-614 141.5,-614\"/>\n<text text-anchor=\"start\" x=\"146.5\" y=\"-633\" font-family=\"Linux libertine\" font-size=\"10.00\">input&#45;tensor</text>\n<text text-anchor=\"start\" x=\"161.5\" y=\"-622\" font-family=\"Linux libertine\" font-size=\"10.00\">depth:0</text>\n<polygon fill=\"none\" stroke=\"black\" points=\"224.5,-614 224.5,-646 277.5,-646 277.5,-614 224.5,-614\"/>\n<text text-anchor=\"start\" x=\"229.5\" y=\"-627.5\" font-family=\"Linux libertine\" font-size=\"10.00\">(1, 50)</text>\n</g>\n<!-- 1 -->\n<g id=\"node2\" class=\"node\">\n<title>1</title>\n<polygon fill=\"#c1ffc1\" stroke=\"transparent\" points=\"316,-578 103,-578 103,-536 316,-536 316,-578\"/>\n<polygon fill=\"none\" stroke=\"black\" points=\"103.5,-536 103.5,-578 168.5,-578 168.5,-536 103.5,-536\"/>\n<text text-anchor=\"start\" x=\"108.5\" y=\"-560\" font-family=\"Linux libertine\" font-size=\"10.00\">Embedding</text>\n<text text-anchor=\"start\" x=\"114.5\" y=\"-549\" font-family=\"Linux libertine\" font-size=\"10.00\">depth:1</text>\n<polygon fill=\"none\" stroke=\"black\" points=\"168.5,-557 168.5,-578 227.5,-578 227.5,-557 168.5,-557\"/>\n<text text-anchor=\"start\" x=\"179.5\" y=\"-565\" font-family=\"Linux libertine\" font-size=\"10.00\">input:</text>\n<polygon fill=\"none\" stroke=\"black\" points=\"227.5,-557 227.5,-578 316.5,-578 316.5,-557 227.5,-557\"/>\n<text text-anchor=\"start\" x=\"247.5\" y=\"-565\" font-family=\"Linux libertine\" font-size=\"10.00\">(1, 50) </text>\n<polygon fill=\"none\" stroke=\"black\" points=\"168.5,-536 168.5,-557 227.5,-557 227.5,-536 168.5,-536\"/>\n<text text-anchor=\"start\" x=\"173.5\" y=\"-544\" font-family=\"Linux libertine\" font-size=\"10.00\">output: </text>\n<polygon fill=\"none\" stroke=\"black\" points=\"227.5,-536 227.5,-557 316.5,-557 316.5,-536 227.5,-536\"/>\n<text text-anchor=\"start\" x=\"232.5\" y=\"-544\" font-family=\"Linux libertine\" font-size=\"10.00\">(1, 50, 256) </text>\n</g>\n<!-- 0&#45;&gt;1 -->\n<g id=\"edge1\" class=\"edge\">\n<title>0&#45;&gt;1</title>\n<path fill=\"none\" stroke=\"black\" d=\"M209.5,-613.94C209.5,-606.45 209.5,-597.12 209.5,-588.24\"/>\n<polygon fill=\"black\" stroke=\"black\" points=\"213,-588.16 209.5,-578.16 206,-588.16 213,-588.16\"/>\n</g>\n<!-- 2 -->\n<g id=\"node3\" class=\"node\">\n<title>2</title>\n<polygon fill=\"#c1ffc1\" stroke=\"transparent\" points=\"358,-500 61,-500 61,-458 358,-458 358,-500\"/>\n<polygon fill=\"none\" stroke=\"black\" points=\"61.5,-458 61.5,-500 114.5,-500 114.5,-458 61.5,-458\"/>\n<text text-anchor=\"start\" x=\"75.5\" y=\"-482\" font-family=\"Linux libertine\" font-size=\"10.00\">LSTM</text>\n<text text-anchor=\"start\" x=\"66.5\" y=\"-471\" font-family=\"Linux libertine\" font-size=\"10.00\">depth:1</text>\n<polygon fill=\"none\" stroke=\"black\" points=\"114.5,-479 114.5,-500 173.5,-500 173.5,-479 114.5,-479\"/>\n<text text-anchor=\"start\" x=\"125.5\" y=\"-487\" font-family=\"Linux libertine\" font-size=\"10.00\">input:</text>\n<polygon fill=\"none\" stroke=\"black\" points=\"173.5,-479 173.5,-500 358.5,-500 358.5,-479 173.5,-479\"/>\n<text text-anchor=\"start\" x=\"226.5\" y=\"-487\" font-family=\"Linux libertine\" font-size=\"10.00\">(1, 50, 256) </text>\n<polygon fill=\"none\" stroke=\"black\" points=\"114.5,-458 114.5,-479 173.5,-479 173.5,-458 114.5,-458\"/>\n<text text-anchor=\"start\" x=\"119.5\" y=\"-466\" font-family=\"Linux libertine\" font-size=\"10.00\">output: </text>\n<polygon fill=\"none\" stroke=\"black\" points=\"173.5,-458 173.5,-479 358.5,-479 358.5,-458 173.5,-458\"/>\n<text text-anchor=\"start\" x=\"178.5\" y=\"-466\" font-family=\"Linux libertine\" font-size=\"10.00\">(1, 50, 128), 2 x (2, 1, 64) </text>\n</g>\n<!-- 1&#45;&gt;2 -->\n<g id=\"edge2\" class=\"edge\">\n<title>1&#45;&gt;2</title>\n<path fill=\"none\" stroke=\"black\" d=\"M209.5,-535.63C209.5,-527.82 209.5,-518.73 209.5,-510.18\"/>\n<polygon fill=\"black\" stroke=\"black\" points=\"213,-510.16 209.5,-500.16 206,-510.16 213,-510.16\"/>\n</g>\n<!-- 3 -->\n<g id=\"node4\" class=\"node\">\n<title>3</title>\n<polygon fill=\"aliceblue\" stroke=\"transparent\" points=\"201,-422 0,-422 0,-380 201,-380 201,-422\"/>\n<polygon fill=\"none\" stroke=\"black\" points=\"0.5,-380 0.5,-422 53.5,-422 53.5,-380 0.5,-380\"/>\n<text text-anchor=\"start\" x=\"14.5\" y=\"-404\" font-family=\"Linux libertine\" font-size=\"10.00\">mean</text>\n<text text-anchor=\"start\" x=\"5.5\" y=\"-393\" font-family=\"Linux libertine\" font-size=\"10.00\">depth:1</text>\n<polygon fill=\"none\" stroke=\"black\" points=\"53.5,-401 53.5,-422 112.5,-422 112.5,-401 53.5,-401\"/>\n<text text-anchor=\"start\" x=\"64.5\" y=\"-409\" font-family=\"Linux libertine\" font-size=\"10.00\">input:</text>\n<polygon fill=\"none\" stroke=\"black\" points=\"112.5,-401 112.5,-422 201.5,-422 201.5,-401 112.5,-401\"/>\n<text text-anchor=\"start\" x=\"117.5\" y=\"-409\" font-family=\"Linux libertine\" font-size=\"10.00\">(1, 50, 128) </text>\n<polygon fill=\"none\" stroke=\"black\" points=\"53.5,-380 53.5,-401 112.5,-401 112.5,-380 53.5,-380\"/>\n<text text-anchor=\"start\" x=\"58.5\" y=\"-388\" font-family=\"Linux libertine\" font-size=\"10.00\">output: </text>\n<polygon fill=\"none\" stroke=\"black\" points=\"112.5,-380 112.5,-401 201.5,-401 201.5,-380 112.5,-380\"/>\n<text text-anchor=\"start\" x=\"129.5\" y=\"-388\" font-family=\"Linux libertine\" font-size=\"10.00\">(1, 128) </text>\n</g>\n<!-- 2&#45;&gt;3 -->\n<g id=\"edge3\" class=\"edge\">\n<title>2&#45;&gt;3</title>\n<path fill=\"none\" stroke=\"black\" d=\"M180.58,-457.83C167.52,-448.73 151.93,-437.86 137.99,-428.14\"/>\n<polygon fill=\"black\" stroke=\"black\" points=\"139.76,-425.11 129.56,-422.26 135.76,-430.85 139.76,-425.11\"/>\n</g>\n<!-- 4 -->\n<g id=\"node5\" class=\"node\">\n<title>4</title>\n<polygon fill=\"aliceblue\" stroke=\"transparent\" points=\"420,-422 219,-422 219,-380 420,-380 420,-422\"/>\n<polygon fill=\"none\" stroke=\"black\" points=\"219.5,-380 219.5,-422 272.5,-422 272.5,-380 219.5,-380\"/>\n<text text-anchor=\"start\" x=\"236.5\" y=\"-404\" font-family=\"Linux libertine\" font-size=\"10.00\">max</text>\n<text text-anchor=\"start\" x=\"224.5\" y=\"-393\" font-family=\"Linux libertine\" font-size=\"10.00\">depth:1</text>\n<polygon fill=\"none\" stroke=\"black\" points=\"272.5,-401 272.5,-422 331.5,-422 331.5,-401 272.5,-401\"/>\n<text text-anchor=\"start\" x=\"283.5\" y=\"-409\" font-family=\"Linux libertine\" font-size=\"10.00\">input:</text>\n<polygon fill=\"none\" stroke=\"black\" points=\"331.5,-401 331.5,-422 420.5,-422 420.5,-401 331.5,-401\"/>\n<text text-anchor=\"start\" x=\"336.5\" y=\"-409\" font-family=\"Linux libertine\" font-size=\"10.00\">(1, 50, 128) </text>\n<polygon fill=\"none\" stroke=\"black\" points=\"272.5,-380 272.5,-401 331.5,-401 331.5,-380 272.5,-380\"/>\n<text text-anchor=\"start\" x=\"277.5\" y=\"-388\" font-family=\"Linux libertine\" font-size=\"10.00\">output: </text>\n<polygon fill=\"none\" stroke=\"black\" points=\"331.5,-380 331.5,-401 420.5,-401 420.5,-380 331.5,-380\"/>\n<text text-anchor=\"start\" x=\"336.5\" y=\"-388\" font-family=\"Linux libertine\" font-size=\"10.00\">2 x (1, 128) </text>\n</g>\n<!-- 2&#45;&gt;4 -->\n<g id=\"edge4\" class=\"edge\">\n<title>2&#45;&gt;4</title>\n<path fill=\"none\" stroke=\"black\" d=\"M238.69,-457.83C251.87,-448.73 267.6,-437.86 281.67,-428.14\"/>\n<polygon fill=\"black\" stroke=\"black\" points=\"283.94,-430.83 290.17,-422.26 279.96,-425.07 283.94,-430.83\"/>\n</g>\n<!-- 5 -->\n<g id=\"node6\" class=\"node\">\n<title>5</title>\n<polygon fill=\"#c1ffc1\" stroke=\"transparent\" points=\"408,-344 231,-344 231,-302 408,-302 408,-344\"/>\n<polygon fill=\"none\" stroke=\"black\" points=\"231.5,-302 231.5,-344 284.5,-344 284.5,-302 231.5,-302\"/>\n<text text-anchor=\"start\" x=\"239.5\" y=\"-326\" font-family=\"Linux libertine\" font-size=\"10.00\">Linear</text>\n<text text-anchor=\"start\" x=\"236.5\" y=\"-315\" font-family=\"Linux libertine\" font-size=\"10.00\">depth:1</text>\n<polygon fill=\"none\" stroke=\"black\" points=\"284.5,-323 284.5,-344 343.5,-344 343.5,-323 284.5,-323\"/>\n<text text-anchor=\"start\" x=\"295.5\" y=\"-331\" font-family=\"Linux libertine\" font-size=\"10.00\">input:</text>\n<polygon fill=\"none\" stroke=\"black\" points=\"343.5,-323 343.5,-344 408.5,-344 408.5,-323 343.5,-323\"/>\n<text text-anchor=\"start\" x=\"348.5\" y=\"-331\" font-family=\"Linux libertine\" font-size=\"10.00\">(1, 128) </text>\n<polygon fill=\"none\" stroke=\"black\" points=\"284.5,-302 284.5,-323 343.5,-323 343.5,-302 284.5,-302\"/>\n<text text-anchor=\"start\" x=\"289.5\" y=\"-310\" font-family=\"Linux libertine\" font-size=\"10.00\">output: </text>\n<polygon fill=\"none\" stroke=\"black\" points=\"343.5,-302 343.5,-323 408.5,-323 408.5,-302 343.5,-302\"/>\n<text text-anchor=\"start\" x=\"348.5\" y=\"-310\" font-family=\"Linux libertine\" font-size=\"10.00\">(1, 512) </text>\n</g>\n<!-- 4&#45;&gt;5 -->\n<g id=\"edge5\" class=\"edge\">\n<title>4&#45;&gt;5</title>\n<path fill=\"none\" stroke=\"black\" d=\"M319.5,-379.63C319.5,-371.82 319.5,-362.73 319.5,-354.18\"/>\n<polygon fill=\"black\" stroke=\"black\" points=\"323,-354.16 319.5,-344.16 316,-354.16 323,-354.16\"/>\n</g>\n<!-- 6 -->\n<g id=\"node7\" class=\"node\">\n<title>6</title>\n<polygon fill=\"#c1ffc1\" stroke=\"transparent\" points=\"408,-266 231,-266 231,-224 408,-224 408,-266\"/>\n<polygon fill=\"none\" stroke=\"black\" points=\"231.5,-224 231.5,-266 284.5,-266 284.5,-224 231.5,-224\"/>\n<text text-anchor=\"start\" x=\"245.5\" y=\"-248\" font-family=\"Linux libertine\" font-size=\"10.00\">ReLU</text>\n<text text-anchor=\"start\" x=\"236.5\" y=\"-237\" font-family=\"Linux libertine\" font-size=\"10.00\">depth:1</text>\n<polygon fill=\"none\" stroke=\"black\" points=\"284.5,-245 284.5,-266 343.5,-266 343.5,-245 284.5,-245\"/>\n<text text-anchor=\"start\" x=\"295.5\" y=\"-253\" font-family=\"Linux libertine\" font-size=\"10.00\">input:</text>\n<polygon fill=\"none\" stroke=\"black\" points=\"343.5,-245 343.5,-266 408.5,-266 408.5,-245 343.5,-245\"/>\n<text text-anchor=\"start\" x=\"348.5\" y=\"-253\" font-family=\"Linux libertine\" font-size=\"10.00\">(1, 512) </text>\n<polygon fill=\"none\" stroke=\"black\" points=\"284.5,-224 284.5,-245 343.5,-245 343.5,-224 284.5,-224\"/>\n<text text-anchor=\"start\" x=\"289.5\" y=\"-232\" font-family=\"Linux libertine\" font-size=\"10.00\">output: </text>\n<polygon fill=\"none\" stroke=\"black\" points=\"343.5,-224 343.5,-245 408.5,-245 408.5,-224 343.5,-224\"/>\n<text text-anchor=\"start\" x=\"348.5\" y=\"-232\" font-family=\"Linux libertine\" font-size=\"10.00\">(1, 512) </text>\n</g>\n<!-- 5&#45;&gt;6 -->\n<g id=\"edge6\" class=\"edge\">\n<title>5&#45;&gt;6</title>\n<path fill=\"none\" stroke=\"black\" d=\"M319.5,-301.63C319.5,-293.82 319.5,-284.73 319.5,-276.18\"/>\n<polygon fill=\"black\" stroke=\"black\" points=\"323,-276.16 319.5,-266.16 316,-276.16 323,-276.16\"/>\n</g>\n<!-- 7 -->\n<g id=\"node8\" class=\"node\">\n<title>7</title>\n<polygon fill=\"#c1ffc1\" stroke=\"transparent\" points=\"408,-188 231,-188 231,-146 408,-146 408,-188\"/>\n<polygon fill=\"none\" stroke=\"black\" points=\"231.5,-146 231.5,-188 284.5,-188 284.5,-146 231.5,-146\"/>\n<text text-anchor=\"start\" x=\"236.5\" y=\"-170\" font-family=\"Linux libertine\" font-size=\"10.00\">Dropout</text>\n<text text-anchor=\"start\" x=\"236.5\" y=\"-159\" font-family=\"Linux libertine\" font-size=\"10.00\">depth:1</text>\n<polygon fill=\"none\" stroke=\"black\" points=\"284.5,-167 284.5,-188 343.5,-188 343.5,-167 284.5,-167\"/>\n<text text-anchor=\"start\" x=\"295.5\" y=\"-175\" font-family=\"Linux libertine\" font-size=\"10.00\">input:</text>\n<polygon fill=\"none\" stroke=\"black\" points=\"343.5,-167 343.5,-188 408.5,-188 408.5,-167 343.5,-167\"/>\n<text text-anchor=\"start\" x=\"348.5\" y=\"-175\" font-family=\"Linux libertine\" font-size=\"10.00\">(1, 512) </text>\n<polygon fill=\"none\" stroke=\"black\" points=\"284.5,-146 284.5,-167 343.5,-167 343.5,-146 284.5,-146\"/>\n<text text-anchor=\"start\" x=\"289.5\" y=\"-154\" font-family=\"Linux libertine\" font-size=\"10.00\">output: </text>\n<polygon fill=\"none\" stroke=\"black\" points=\"343.5,-146 343.5,-167 408.5,-167 408.5,-146 343.5,-146\"/>\n<text text-anchor=\"start\" x=\"348.5\" y=\"-154\" font-family=\"Linux libertine\" font-size=\"10.00\">(1, 512) </text>\n</g>\n<!-- 6&#45;&gt;7 -->\n<g id=\"edge7\" class=\"edge\">\n<title>6&#45;&gt;7</title>\n<path fill=\"none\" stroke=\"black\" d=\"M319.5,-223.63C319.5,-215.82 319.5,-206.73 319.5,-198.18\"/>\n<polygon fill=\"black\" stroke=\"black\" points=\"323,-198.16 319.5,-188.16 316,-198.16 323,-198.16\"/>\n</g>\n<!-- 8 -->\n<g id=\"node9\" class=\"node\">\n<title>8</title>\n<polygon fill=\"#c1ffc1\" stroke=\"transparent\" points=\"311,-110 134,-110 134,-68 311,-68 311,-110\"/>\n<polygon fill=\"none\" stroke=\"black\" points=\"134.5,-68 134.5,-110 187.5,-110 187.5,-68 134.5,-68\"/>\n<text text-anchor=\"start\" x=\"142.5\" y=\"-92\" font-family=\"Linux libertine\" font-size=\"10.00\">Linear</text>\n<text text-anchor=\"start\" x=\"139.5\" y=\"-81\" font-family=\"Linux libertine\" font-size=\"10.00\">depth:1</text>\n<polygon fill=\"none\" stroke=\"black\" points=\"187.5,-89 187.5,-110 246.5,-110 246.5,-89 187.5,-89\"/>\n<text text-anchor=\"start\" x=\"198.5\" y=\"-97\" font-family=\"Linux libertine\" font-size=\"10.00\">input:</text>\n<polygon fill=\"none\" stroke=\"black\" points=\"246.5,-89 246.5,-110 311.5,-110 311.5,-89 246.5,-89\"/>\n<text text-anchor=\"start\" x=\"251.5\" y=\"-97\" font-family=\"Linux libertine\" font-size=\"10.00\">(1, 512) </text>\n<polygon fill=\"none\" stroke=\"black\" points=\"187.5,-68 187.5,-89 246.5,-89 246.5,-68 187.5,-68\"/>\n<text text-anchor=\"start\" x=\"192.5\" y=\"-76\" font-family=\"Linux libertine\" font-size=\"10.00\">output: </text>\n<polygon fill=\"none\" stroke=\"black\" points=\"246.5,-68 246.5,-89 311.5,-89 311.5,-68 246.5,-68\"/>\n<text text-anchor=\"start\" x=\"251.5\" y=\"-76\" font-family=\"Linux libertine\" font-size=\"10.00\">(1, 154) </text>\n</g>\n<!-- 7&#45;&gt;8 -->\n<g id=\"edge8\" class=\"edge\">\n<title>7&#45;&gt;8</title>\n<path fill=\"none\" stroke=\"black\" d=\"M293.76,-145.83C282.36,-136.9 268.79,-126.27 256.56,-116.69\"/>\n<polygon fill=\"black\" stroke=\"black\" points=\"258.39,-113.67 248.36,-110.26 254.07,-119.18 258.39,-113.67\"/>\n</g>\n<!-- 10 -->\n<g id=\"node11\" class=\"node\">\n<title>10</title>\n<polygon fill=\"#c1ffc1\" stroke=\"transparent\" points=\"506,-110 329,-110 329,-68 506,-68 506,-110\"/>\n<polygon fill=\"none\" stroke=\"black\" points=\"329.5,-68 329.5,-110 382.5,-110 382.5,-68 329.5,-68\"/>\n<text text-anchor=\"start\" x=\"337.5\" y=\"-92\" font-family=\"Linux libertine\" font-size=\"10.00\">Linear</text>\n<text text-anchor=\"start\" x=\"334.5\" y=\"-81\" font-family=\"Linux libertine\" font-size=\"10.00\">depth:1</text>\n<polygon fill=\"none\" stroke=\"black\" points=\"382.5,-89 382.5,-110 441.5,-110 441.5,-89 382.5,-89\"/>\n<text text-anchor=\"start\" x=\"393.5\" y=\"-97\" font-family=\"Linux libertine\" font-size=\"10.00\">input:</text>\n<polygon fill=\"none\" stroke=\"black\" points=\"441.5,-89 441.5,-110 506.5,-110 506.5,-89 441.5,-89\"/>\n<text text-anchor=\"start\" x=\"446.5\" y=\"-97\" font-family=\"Linux libertine\" font-size=\"10.00\">(1, 512) </text>\n<polygon fill=\"none\" stroke=\"black\" points=\"382.5,-68 382.5,-89 441.5,-89 441.5,-68 382.5,-68\"/>\n<text text-anchor=\"start\" x=\"387.5\" y=\"-76\" font-family=\"Linux libertine\" font-size=\"10.00\">output: </text>\n<polygon fill=\"none\" stroke=\"black\" points=\"441.5,-68 441.5,-89 506.5,-89 506.5,-68 441.5,-68\"/>\n<text text-anchor=\"start\" x=\"446.5\" y=\"-76\" font-family=\"Linux libertine\" font-size=\"10.00\">(1, 597) </text>\n</g>\n<!-- 7&#45;&gt;10 -->\n<g id=\"edge9\" class=\"edge\">\n<title>7&#45;&gt;10</title>\n<path fill=\"none\" stroke=\"black\" d=\"M345.5,-145.83C357.13,-136.81 371,-126.06 383.44,-116.41\"/>\n<polygon fill=\"black\" stroke=\"black\" points=\"385.62,-119.16 391.37,-110.26 381.33,-113.62 385.62,-119.16\"/>\n</g>\n<!-- 9 -->\n<g id=\"node10\" class=\"node\">\n<title>9</title>\n<polygon fill=\"lightyellow\" stroke=\"transparent\" points=\"296.5,-32 148.5,-32 148.5,0 296.5,0 296.5,-32\"/>\n<polygon fill=\"none\" stroke=\"black\" points=\"148.5,0 148.5,-32 237.5,-32 237.5,0 148.5,0\"/>\n<text text-anchor=\"start\" x=\"153.5\" y=\"-19\" font-family=\"Linux libertine\" font-size=\"10.00\">output&#45;tensor</text>\n<text text-anchor=\"start\" x=\"171.5\" y=\"-8\" font-family=\"Linux libertine\" font-size=\"10.00\">depth:0</text>\n<polygon fill=\"none\" stroke=\"black\" points=\"237.5,0 237.5,-32 296.5,-32 296.5,0 237.5,0\"/>\n<text text-anchor=\"start\" x=\"242.5\" y=\"-13.5\" font-family=\"Linux libertine\" font-size=\"10.00\">(1, 154)</text>\n</g>\n<!-- 8&#45;&gt;9 -->\n<g id=\"edge10\" class=\"edge\">\n<title>8&#45;&gt;9</title>\n<path fill=\"none\" stroke=\"black\" d=\"M222.5,-67.84C222.5,-59.89 222.5,-50.66 222.5,-42.26\"/>\n<polygon fill=\"black\" stroke=\"black\" points=\"226,-42.24 222.5,-32.24 219,-42.24 226,-42.24\"/>\n</g>\n<!-- 11 -->\n<g id=\"node12\" class=\"node\">\n<title>11</title>\n<polygon fill=\"lightyellow\" stroke=\"transparent\" points=\"491.5,-32 343.5,-32 343.5,0 491.5,0 491.5,-32\"/>\n<polygon fill=\"none\" stroke=\"black\" points=\"343.5,0 343.5,-32 432.5,-32 432.5,0 343.5,0\"/>\n<text text-anchor=\"start\" x=\"348.5\" y=\"-19\" font-family=\"Linux libertine\" font-size=\"10.00\">output&#45;tensor</text>\n<text text-anchor=\"start\" x=\"366.5\" y=\"-8\" font-family=\"Linux libertine\" font-size=\"10.00\">depth:0</text>\n<polygon fill=\"none\" stroke=\"black\" points=\"432.5,0 432.5,-32 491.5,-32 491.5,0 432.5,0\"/>\n<text text-anchor=\"start\" x=\"437.5\" y=\"-13.5\" font-family=\"Linux libertine\" font-size=\"10.00\">(1, 597)</text>\n</g>\n<!-- 10&#45;&gt;11 -->\n<g id=\"edge11\" class=\"edge\">\n<title>10&#45;&gt;11</title>\n<path fill=\"none\" stroke=\"black\" d=\"M417.5,-67.84C417.5,-59.89 417.5,-50.66 417.5,-42.26\"/>\n<polygon fill=\"black\" stroke=\"black\" points=\"421,-42.24 417.5,-32.24 414,-42.24 421,-42.24\"/>\n</g>\n</g>\n</svg>\n",
            "text/plain": [
              "<graphviz.dot.Digraph at 0x7f3d8d2fab20>"
            ]
          },
          "execution_count": 209,
          "metadata": {},
          "output_type": "execute_result"
        }
      ],
      "source": [
        "import torchvision\n",
        "from torchview import draw_graph\n",
        "\n",
        "model_graph = draw_graph(BiLSTM(), input_size=(1,50),dtypes=[torch.long], expand_nested=True, save_graph = True)\n",
        "model_graph.visual_graph"
      ]
    },
    {
      "cell_type": "code",
      "execution_count": null,
      "metadata": {
        "id": "di1o7ANBGs-Q"
      },
      "outputs": [],
      "source": []
    }
  ],
  "metadata": {
    "accelerator": "GPU",
    "colab": {
      "provenance": []
    },
    "gpuClass": "standard",
    "kernelspec": {
      "display_name": "Python 3",
      "language": "python",
      "name": "python3"
    },
    "language_info": {
      "codemirror_mode": {
        "name": "ipython",
        "version": 3
      },
      "file_extension": ".py",
      "mimetype": "text/x-python",
      "name": "python",
      "nbconvert_exporter": "python",
      "pygments_lexer": "ipython3",
      "version": "3.5.2"
    }
  },
  "nbformat": 4,
  "nbformat_minor": 0
}